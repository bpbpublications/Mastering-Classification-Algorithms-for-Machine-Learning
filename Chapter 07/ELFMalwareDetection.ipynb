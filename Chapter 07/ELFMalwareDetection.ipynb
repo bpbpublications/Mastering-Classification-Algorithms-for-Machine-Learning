{
 "cells": [
  {
   "cell_type": "markdown",
   "metadata": {
    "pycharm": {
     "name": "#%% md\n"
    }
   },
   "source": [
    "# Malware Analysis of ELF Files using Machine Learning"
   ]
  },
  {
   "cell_type": "code",
   "execution_count": 1,
   "metadata": {},
   "outputs": [],
   "source": [
    "import warnings\n",
    "warnings.filterwarnings('ignore')"
   ]
  },
  {
   "cell_type": "code",
   "execution_count": 2,
   "metadata": {},
   "outputs": [
    {
     "name": "stdout",
     "output_type": "stream",
     "text": [
      "Requirement already satisfied: pyelftools in /Users/parthamajumdar/opt/anaconda3/lib/python3.9/site-packages (0.29)\n"
     ]
    }
   ],
   "source": [
    "!python3 -m pip install pyelftools"
   ]
  },
  {
   "cell_type": "markdown",
   "metadata": {
    "pycharm": {
     "name": "#%% md\n"
    }
   },
   "source": [
    "## About ELF Files\n",
    "\n",
    "The information of ELF Files is contained in three primary sections:\n",
    "+ File Header\n",
    "+ Program Header\n",
    "+ Section Information\n",
    "\n",
    "An ELF File contains one File Header, one Program Header and many Sections."
   ]
  },
  {
   "cell_type": "code",
   "execution_count": 3,
   "metadata": {
    "pycharm": {
     "name": "#%%\n"
    }
   },
   "outputs": [],
   "source": [
    "# Constants\n",
    "EMPTY_SECTION_NAME_SUBSTITUTE = \"S\"\n",
    "FILE_NAME_COLUMN_NAME = \"FileName\"\n",
    "FILE_TYPE_COLUMN_NAME = 'FileType'\n",
    "NUMERIC_COLUMN_IDENTIFIER = \"N\"\n",
    "MALWARE_SECTION_NAME_PREFIX = \"M\"\n",
    "\n",
    "BENIGN_FILE = 0\n",
    "BACKDOOR_FILE = 1\n",
    "BOTNET_FILE = 2\n",
    "DDOS_FILE = 3\n",
    "TROJAN_FILE = 4\n",
    "VIRUS_FILE = 5"
   ]
  },
  {
   "cell_type": "code",
   "execution_count": 4,
   "metadata": {
    "pycharm": {
     "name": "#%%\n"
    }
   },
   "outputs": [],
   "source": [
    "import glob\n",
    "\n",
    "def extractInformationFromADirectory(inputDirectory):\n",
    "    # Declare Counters\n",
    "    numberOfValidFiles = 0\n",
    "    numberOfInvalidFiles = 0\n",
    "    numberOfFilesWithNoFileHeader = 0\n",
    "    numberOfFilesWithNoProgramHeader = 0\n",
    "    numberOfFilesWithNoSections = 0\n",
    "\n",
    "    # Create an Empty List to hold all the features of all the files\n",
    "    returnValue = []\n",
    "    \n",
    "    # Loop through all the files in the Input Directory\n",
    "    for file in glob.glob(inputDirectory):\n",
    "        # Create an empty Dictionary\n",
    "        oneFileFeatures = {}\n",
    "        \n",
    "        try:\n",
    "            # Read the file and extract the features\n",
    "            fileFeatures, validFlag, hasFileHeader, hasProgramHeader, hasSections = ExtractFileDetails(file)\n",
    "            if(validFlag and len(fileFeatures.keys()) > 0):\n",
    "                numberOfValidFiles += 1\n",
    "\n",
    "                # Add the File Features to the main Dictionary\n",
    "                oneFileFeatures.update(fileFeatures)\n",
    "            \n",
    "                # Add the entry to the return value\n",
    "                returnValue.append(oneFileFeatures)\n",
    "            else:\n",
    "                if hasFileHeader == False:\n",
    "                    numberOfFilesWithNoFileHeader += 1\n",
    "                else:\n",
    "                    if hasProgramHeader == False:\n",
    "                        numberOfFilesWithNoProgramHeader += 1\n",
    "                    else:\n",
    "                        if hasSections == False:\n",
    "                            numberOfFilesWithNoSections += 1\n",
    "                        else:\n",
    "                            numberOfInvalidFiles += 1\n",
    "            \n",
    "        except:\n",
    "            # Check if the file is a valid ELF File\n",
    "            if isELFFile(file):\n",
    "                pass\n",
    "            else:\n",
    "                numberOfInvalidFiles += 1\n",
    "\n",
    "    return (returnValue, \n",
    "            numberOfValidFiles, \n",
    "            numberOfInvalidFiles, \n",
    "            numberOfFilesWithNoFileHeader, \n",
    "            numberOfFilesWithNoProgramHeader, \n",
    "            numberOfFilesWithNoSections)"
   ]
  },
  {
   "cell_type": "code",
   "execution_count": 5,
   "metadata": {
    "pycharm": {
     "name": "#%%\n"
    }
   },
   "outputs": [],
   "source": [
    "def ExtractFileDetails(file):\n",
    "    ''' Function Name: ExtractFileDetails\n",
    "        Purpose: To extract the details of all the information of an ELF File.\n",
    "                 The information in an ELF File is stored as File Header, Program Header and Section Information.\n",
    "                 There is one set of information for File Header and Program Header.\n",
    "                 However, there can be many sections in an ELF File.\n",
    "        Input Parameters:\n",
    "            1. file: A File from which the information needs to be extracted.\n",
    "                     The file may be a valid ELF File or not a valid ELF File.\n",
    "        Output Parameters:\n",
    "            1. A Dictionary containing the attributes as the key and their values as the value.\n",
    "               In case, no information can be extracted from the ELF File or the file is not a valid ELF File, an empty dictionary is returned.\n",
    "            2. Boolean value indication whether the provided file was a valid ELF File or not.\n",
    "               True if the provided file was an ELF File, False otherwise.\n",
    "    '''\n",
    "    returnValue = {}\n",
    "    validELFFile = True\n",
    "    hasFileHeader = True\n",
    "    hasProgramHeader = True\n",
    "    hasSections = True\n",
    "    \n",
    "    try:\n",
    "        with open(file, 'rb') as elffile:\n",
    "            try:\n",
    "                eFile = ELFFile(elffile)\n",
    "\n",
    "                # Extract the File Header Information\n",
    "                fileHeader = ExtractFileHeader(eFile)\n",
    "                if(len(fileHeader) > 0):\n",
    "                    returnValue.update(fileHeader) # Add the attributes to dictionary\n",
    "                else:\n",
    "                    hasFileHeader = False\n",
    "                    raise Exception()\n",
    "\n",
    "                # Extract the Program Header Information\n",
    "                segmentDetails = ExtractSegmentDetails(eFile)\n",
    "                if(len(segmentDetails) > 0):\n",
    "                    returnValue.update(segmentDetails) # Add the attributes to dictionary\n",
    "                else:\n",
    "                    hasProgramHeader = False\n",
    "                    raise Exception()\n",
    "\n",
    "                sectionDetails = ExtractSectionDetails(eFile)\n",
    "                if(len(sectionDetails) > 0):\n",
    "                    returnValue.update(sectionDetails) # Add the attributes to dictionary\n",
    "                else:\n",
    "                    hasSections = False\n",
    "                    raise Exception()\n",
    "\n",
    "            except:\n",
    "                validELFFile = False\n",
    "\n",
    "            finally:\n",
    "                elffile.close()\n",
    "    except:\n",
    "        pass\n",
    "    \n",
    "    return (returnValue, validELFFile, hasFileHeader, hasProgramHeader, hasSections)"
   ]
  },
  {
   "cell_type": "code",
   "execution_count": 6,
   "metadata": {
    "pycharm": {
     "name": "#%%\n"
    }
   },
   "outputs": [],
   "source": [
    "from elftools.elf.elffile import ELFFile\n",
    "\n",
    "def ExtractFileHeader(elffile):\n",
    "    ''' Function Name: ExtractFileHeader\n",
    "        Purpose: To extract the File Header of the ELF File.\n",
    "        Input Parameters:\n",
    "            1. elffile: A valid ELF File from which the Segment information has to be extracted\n",
    "        Output Parameters:\n",
    "            1. A Dictionary containing the attributes as the key and their values as the value\n",
    "               In case, the ELF File has no File Header, an empty dictionary is returned (This is not possible for valid ELF Files)\n",
    "    '''\n",
    "    returnValue = {} # Dictionary to hold the unique attributes the header\n",
    "    \n",
    "    # The header information can be obtained as a dictionary.\n",
    "    # However, there are some dictionaries inside this dictionary.\n",
    "    # So, we create a flat structure taking out all the unique attributes and form a dictionary.\n",
    "    for key, value in elffile.header.items():\n",
    "        # If the value for the key is a dictionary, then loop through all the attributes of this dictionary to collect the features.\n",
    "        # The approach is simplistic as I do not go for a recursive function as it is known that there can be only one additional level of dictionary.\n",
    "        if key == \"e_ident\":\n",
    "            for insideKey, insideValue in value.items():\n",
    "                if insideKey == \"EI_MAG\":\n",
    "                    pass\n",
    "                else:\n",
    "                    returnValue[insideKey] = insideValue\n",
    "        else:\n",
    "            returnValue[key] = value\n",
    "    \n",
    "    return returnValue"
   ]
  },
  {
   "cell_type": "code",
   "execution_count": 7,
   "metadata": {
    "pycharm": {
     "name": "#%%\n"
    }
   },
   "outputs": [],
   "source": [
    "from elftools.elf.elffile import ELFFile\n",
    "\n",
    "def ExtractSegmentDetails(elffile):\n",
    "    ''' Function Name: ExtractSegmentDetails\n",
    "        Purpose: To extract the details of all the segments in the ELF File.\n",
    "                 The segment information is the Program Header of a ELF File.\n",
    "        Input Parameters:\n",
    "            1. elffile: A valid ELF File from which the Segment information has to be extracted\n",
    "        Output Parameters:\n",
    "            1. A Dictionary containing the attributes as the key and their values as the value\n",
    "               In case, the ELF File has no segments, an empty dictionary is returned (This is not possible for valid ELF Files)\n",
    "    '''\n",
    "    returnValue = {} # Dictionary to hold the unique attributes of all the segments\n",
    "\n",
    "    # Check if any segment information exists in the file\n",
    "    # If it does, collect all the information of all the attributes in all the segments\n",
    "    if(elffile.num_segments() > 0):\n",
    "        prefixDict = {} # Dictionary to hold the unique segment attributes for all the segment names\n",
    "\n",
    "        # Each ELF File may have one or more number of segments\n",
    "        # Loop through all the segments\n",
    "        for segment in elffile.iter_segments():\n",
    "            prefix = \"\"\n",
    "            \n",
    "            # In each segment, there can be one or more number of attributes\n",
    "            # The attribute \"p_type\" contains the segment name\n",
    "            # Under each segment, the attributes may be different from the other segments\n",
    "            for attribute in segment.header:\n",
    "                # The segment name is stored in the attribute \"p_type\"\n",
    "                # So, we prefix the segment name to all the other attributes to uniquely identify each attribute for all the segments\n",
    "                if(attribute == 'p_type'):\n",
    "                    ctr = 0\n",
    "                    prefix = segment.header[attribute]\n",
    "                    # Here we check if 2 or more segments have the same name\n",
    "                    # If there are 2 or more segments with the same name,\n",
    "                    # then each of the segments is uniquely identified by adding a running counter to the end of the segment name\n",
    "                    while True:\n",
    "                        if prefix in prefixDict:\n",
    "                            ctr += 1\n",
    "                            prefix = (segment.header[attribute] + \"-\" + str(ctr))\n",
    "                        else:\n",
    "                            break\n",
    "                            \n",
    "                    prefixDict[prefix] = 1 # Keep a note of the segments processed so far\n",
    "                else:\n",
    "                    # Create a key as the \"<segment name>-<attribute name>\"\n",
    "                    # And add it to the unique list of attributes\n",
    "                    key = prefix + \"-\" + attribute\n",
    "                    returnValue[key] = segment.header[attribute]\n",
    "    \n",
    "    return returnValue"
   ]
  },
  {
   "cell_type": "code",
   "execution_count": 8,
   "metadata": {
    "pycharm": {
     "name": "#%%\n"
    }
   },
   "outputs": [],
   "source": [
    "from elftools.elf.elffile import ELFFile\n",
    "\n",
    "def ExtractSectionDetails(elffile):\n",
    "    ''' Function Name: ExtractSegmentDetails\n",
    "        Purpose: To extract the details of all the segments in the ELF File.\n",
    "                 The segment information is the Program Header of an ELF File.\n",
    "        Input Parameters:\n",
    "            1. elffile: A valid ELF File from which the Segment information has to be extracted\n",
    "        Output Parameters:\n",
    "            1. A Dictionary containing the attributes as the key and their values as the value\n",
    "               In case, the ELF File has no segments, an empty dictionary is returned (This is not possible for valid ELF Files)\n",
    "    '''\n",
    "    returnValue = {}\n",
    "    \n",
    "    # ELF Files with malware contain Section Names which have been tampered.\n",
    "    # If such a Section Name is found, then we store the tampered Section Name as a feature.\n",
    "    # To be able to store these in unique attributes, we set a counter across the file.\n",
    "    malwareSectionNameCounter = 0\n",
    "    \n",
    "    # Check if any section information exists in the file\n",
    "    # If it does, collect all the information of all the attributes in all the sections\n",
    "    if(elffile.num_sections() > 0):\n",
    "        # Iterate through all the sections and gather the attributes.\n",
    "        for section in elffile.iter_sections():\n",
    "            # Every section has a name.\n",
    "            # Section Name has to be a valid ASCII string.\n",
    "            # If the Section Name contains non-ASCII characters, then the file has been tampered.\n",
    "            if all((ord(char) > 32 and ord(char) < 128) for char in section.name):\n",
    "                sectionName = section.name\n",
    "            else:\n",
    "                # In case the Section Name contains non-ASCII characters, we store the Section Name as a feature in our data set\n",
    "                malwareSectionNameCounter = malwareSectionNameCounter + 1\n",
    "                sectionName = MALWARE_SECTION_NAME_PREFIX + str(malwareSectionNameCounter)\n",
    "                returnValue[sectionName] = section.name\n",
    "                \n",
    "            # Attributes of all the sections may have the same name.\n",
    "            # So, section name will be prefixed to the attribute name to form the key for the dictionary.\n",
    "            sectionName = sectionName.lstrip('.') # Remove leading dot ('.') from the section name\n",
    "            sectionName = sectionName.lstrip('_') # Remove leading underscores ('_') from the section name\n",
    "            sectionName = sectionName.replace('.', '-') # Remove all the dots ('.') and replace with a dash ('-')\n",
    "            sectionName = sectionName.strip()\n",
    "\n",
    "            if len(sectionName) == 0:\n",
    "                sectionName = EMPTY_SECTION_NAME_SUBSTITUTE\n",
    "            \n",
    "            # Every section has a header.\n",
    "            # Iterate through all the attributes in the header of the section.\n",
    "            # The attributes of the section header are prefixed by the section name to form the attribute name.\n",
    "            for key, value in section.header.items():\n",
    "                attributeName = sectionName + \"-\" + key\n",
    "                returnValue[attributeName] = value\n",
    "    \n",
    "    return returnValue"
   ]
  },
  {
   "cell_type": "markdown",
   "metadata": {
    "pycharm": {
     "name": "#%% md\n"
    }
   },
   "source": [
    "### Function to check whether a file is an ELF File"
   ]
  },
  {
   "cell_type": "code",
   "execution_count": 9,
   "metadata": {
    "pycharm": {
     "name": "#%%\n"
    }
   },
   "outputs": [],
   "source": [
    "from elftools.elf.elffile import ELFFile\n",
    "\n",
    "def isELFFile(file):\n",
    "    ''' Function Name: isELFFile\n",
    "        Purpose: To check whether a file is an ELF File\n",
    "        Input Parameters:\n",
    "            1. file: File to be checked\n",
    "        Output Parameters:\n",
    "            1. Boolean: True if File is an ELF File, False otherwise\n",
    "    '''\n",
    "    with open(file, 'rb') as elffile:\n",
    "        returnValue = True\n",
    "        \n",
    "        try:\n",
    "            ELFFile(elffile) # The constructor of the ELFFile class checks whether the magic number for an ELF File exists in the provided file\n",
    "            \n",
    "        except:\n",
    "            returnValue = False\n",
    "            \n",
    "        finally:\n",
    "            elffile.close()\n",
    "        \n",
    "    return returnValue"
   ]
  },
  {
   "cell_type": "code",
   "execution_count": 10,
   "metadata": {
    "pycharm": {
     "name": "#%%\n"
    }
   },
   "outputs": [
    {
     "name": "stdout",
     "output_type": "stream",
     "text": [
      "BENIGN FILES:\n",
      "Valid - 2038\n",
      "Invalid - 30\n",
      "No File Header - 0\n",
      "No Program Header - 0\n",
      "No Sections - 10\n"
     ]
    }
   ],
   "source": [
    "benignFileFeatures, nValidFiles, nInvalidFiles, nFilesWithNoFileHeader, nFilesWithNoProgramHeader, nFilesWithNoSections = \\\n",
    "                extractInformationFromADirectory(\"Data/benign_ELF/*\")\n",
    "print(\"BENIGN FILES:\\nValid - %d\\nInvalid - %d\\nNo File Header - %d\\nNo Program Header - %d\\nNo Sections - %d\" % \\\n",
    "      (nValidFiles, nInvalidFiles, nFilesWithNoFileHeader, nFilesWithNoProgramHeader, nFilesWithNoSections))"
   ]
  },
  {
   "cell_type": "code",
   "execution_count": 11,
   "metadata": {
    "pycharm": {
     "name": "#%%\n"
    }
   },
   "outputs": [
    {
     "name": "stdout",
     "output_type": "stream",
     "text": [
      "BACKDOOR FILES:\n",
      "Valid - 589\n",
      "Invalid - 36\n",
      "No File Header - 0\n",
      "No Program Header - 1\n",
      "No Sections - 50\n"
     ]
    }
   ],
   "source": [
    "backdoorFileFeatures, nValidFiles, nInvalidFiles, nFilesWithNoFileHeader, nFilesWithNoProgramHeader, nFilesWithNoSections = \\\n",
    "                extractInformationFromADirectory(\"Data/malware_ELF/Backdoor/*\")\n",
    "print(\"BACKDOOR FILES:\\nValid - %d\\nInvalid - %d\\nNo File Header - %d\\nNo Program Header - %d\\nNo Sections - %d\" % \\\n",
    "      (nValidFiles, nInvalidFiles, nFilesWithNoFileHeader, nFilesWithNoProgramHeader, nFilesWithNoSections))"
   ]
  },
  {
   "cell_type": "code",
   "execution_count": 12,
   "metadata": {
    "pycharm": {
     "name": "#%%\n"
    }
   },
   "outputs": [
    {
     "name": "stdout",
     "output_type": "stream",
     "text": [
      "BOTNET FILES:\n",
      "Valid - 616\n",
      "Invalid - 64\n",
      "No File Header - 0\n",
      "No Program Header - 0\n",
      "No Sections - 33\n"
     ]
    }
   ],
   "source": [
    "botnetFileFeatures, nValidFiles, nInvalidFiles, nFilesWithNoFileHeader, nFilesWithNoProgramHeader, nFilesWithNoSections = \\\n",
    "                extractInformationFromADirectory(\"Data/malware_ELF/Botnet/*\")\n",
    "print(\"BOTNET FILES:\\nValid - %d\\nInvalid - %d\\nNo File Header - %d\\nNo Program Header - %d\\nNo Sections - %d\" % \\\n",
    "      (nValidFiles, nInvalidFiles, nFilesWithNoFileHeader, nFilesWithNoProgramHeader, nFilesWithNoSections))"
   ]
  },
  {
   "cell_type": "code",
   "execution_count": 13,
   "metadata": {
    "pycharm": {
     "name": "#%%\n"
    }
   },
   "outputs": [
    {
     "name": "stdout",
     "output_type": "stream",
     "text": [
      "DDOS FILES:\n",
      "Valid - 642\n",
      "Invalid - 74\n",
      "No File Header - 0\n",
      "No Program Header - 0\n",
      "No Sections - 9\n"
     ]
    }
   ],
   "source": [
    "ddosFileFeatures, nValidFiles, nInvalidFiles, nFilesWithNoFileHeader, nFilesWithNoProgramHeader, nFilesWithNoSections = \\\n",
    "                extractInformationFromADirectory(\"Data/malware_ELF/Ddos/*\")\n",
    "print(\"DDOS FILES:\\nValid - %d\\nInvalid - %d\\nNo File Header - %d\\nNo Program Header - %d\\nNo Sections - %d\" % \\\n",
    "      (nValidFiles, nInvalidFiles, nFilesWithNoFileHeader, nFilesWithNoProgramHeader, nFilesWithNoSections))"
   ]
  },
  {
   "cell_type": "code",
   "execution_count": 14,
   "metadata": {
    "pycharm": {
     "name": "#%%\n"
    }
   },
   "outputs": [
    {
     "name": "stdout",
     "output_type": "stream",
     "text": [
      "TROJAN FILES:\n",
      "Valid - 369\n",
      "Invalid - 46\n",
      "No File Header - 0\n",
      "No Program Header - 0\n",
      "No Sections - 46\n"
     ]
    }
   ],
   "source": [
    "trojanFileFeatures, nValidFiles, nInvalidFiles, nFilesWithNoFileHeader, nFilesWithNoProgramHeader, nFilesWithNoSections = \\\n",
    "                extractInformationFromADirectory(\"Data/malware_ELF/Trojan/*\")\n",
    "print(\"TROJAN FILES:\\nValid - %d\\nInvalid - %d\\nNo File Header - %d\\nNo Program Header - %d\\nNo Sections - %d\" % \\\n",
    "      (nValidFiles, nInvalidFiles, nFilesWithNoFileHeader, nFilesWithNoProgramHeader, nFilesWithNoSections))"
   ]
  },
  {
   "cell_type": "code",
   "execution_count": 15,
   "metadata": {
    "pycharm": {
     "name": "#%%\n"
    }
   },
   "outputs": [
    {
     "name": "stdout",
     "output_type": "stream",
     "text": [
      "VIRUS FILES:\n",
      "Valid - 452\n",
      "Invalid - 29\n",
      "No File Header - 0\n",
      "No Program Header - 0\n",
      "No Sections - 58\n"
     ]
    }
   ],
   "source": [
    "virusFileFeatures, nValidFiles, nInvalidFiles, nFilesWithNoFileHeader, nFilesWithNoProgramHeader, nFilesWithNoSections = \\\n",
    "                extractInformationFromADirectory(\"Data/malware_ELF/Virus/*\")\n",
    "print(\"VIRUS FILES:\\nValid - %d\\nInvalid - %d\\nNo File Header - %d\\nNo Program Header - %d\\nNo Sections - %d\" % \\\n",
    "      (nValidFiles, nInvalidFiles, nFilesWithNoFileHeader, nFilesWithNoProgramHeader, nFilesWithNoSections))"
   ]
  },
  {
   "cell_type": "markdown",
   "metadata": {
    "pycharm": {
     "name": "#%% md\n"
    }
   },
   "source": [
    "### Extract the unique list of Keys for all the files\n",
    "From the last 6 steps, we have 6 dictionaries containing all the attributes extracted from all the clean ELF files and from all the ELF files containing malware. In this step, a list of all the unique attributes is prepared. To do this, a set of tags is created. Set is chosen as sets cannot contain duplicate items.\n",
    "\n",
    "The list of unique tags as extracted is listed below."
   ]
  },
  {
   "cell_type": "code",
   "execution_count": 16,
   "metadata": {
    "pycharm": {
     "name": "#%%\n"
    }
   },
   "outputs": [],
   "source": [
    "featureList = set()\n",
    "\n",
    "for i in benignFileFeatures:\n",
    "    for k in i.keys():\n",
    "        if type(k) == int:\n",
    "            featureList.add(NUMERIC_COLUMN_IDENTIFIER + str(k))\n",
    "        else:\n",
    "            featureList.add(k)\n",
    "\n",
    "for i in backdoorFileFeatures:\n",
    "    for k in i.keys():\n",
    "        if type(k) == int:\n",
    "            featureList.add(NUMERIC_COLUMN_IDENTIFIER + str(k))\n",
    "        else:\n",
    "            featureList.add(k)\n",
    "            \n",
    "for i in botnetFileFeatures:\n",
    "    for k in i.keys():\n",
    "        if type(k) == int:\n",
    "            featureList.add(NUMERIC_COLUMN_IDENTIFIER + str(k))\n",
    "        else:\n",
    "            featureList.add(k)\n",
    "            \n",
    "for i in ddosFileFeatures:\n",
    "    for k in i.keys():\n",
    "        if type(k) == int:\n",
    "            featureList.add(NUMERIC_COLUMN_IDENTIFIER + str(k))\n",
    "        else:\n",
    "            featureList.add(k)\n",
    "            \n",
    "for i in trojanFileFeatures:\n",
    "    for k in i.keys():\n",
    "        if type(k) == int:\n",
    "            featureList.add(NUMERIC_COLUMN_IDENTIFIER + str(k))\n",
    "        else:\n",
    "            featureList.add(k)\n",
    "            \n",
    "for i in virusFileFeatures:\n",
    "    for k in i.keys():\n",
    "        if type(k) == int:\n",
    "            featureList.add(NUMERIC_COLUMN_IDENTIFIER + str(k))\n",
    "        else:\n",
    "            featureList.add(k)"
   ]
  },
  {
   "cell_type": "code",
   "execution_count": 17,
   "metadata": {
    "pycharm": {
     "name": "#%%\n"
    }
   },
   "outputs": [],
   "source": [
    "import pickle\n",
    "\n",
    "pickle.dump(featureList, open(\"./FeatureList\", 'wb'))"
   ]
  },
  {
   "cell_type": "markdown",
   "metadata": {
    "pycharm": {
     "name": "#%% md\n"
    }
   },
   "source": [
    "### Create a Dataframe containing all the Keys extracted in the previous step as Columns and fill in the values in the Dataframe\n",
    "\n",
    "#### fillDataInDataFrame\n",
    "Function to create a dataframe of all the attributes available in the set of ELF Files."
   ]
  },
  {
   "cell_type": "code",
   "execution_count": 18,
   "metadata": {
    "pycharm": {
     "name": "#%%\n"
    }
   },
   "outputs": [],
   "source": [
    "import pandas as pd\n",
    "\n",
    "def fillDataInDataFrame(featureDictionary, p_featureList, fileType):\n",
    "    # Create an Dummy variable to hold a DataFrame object\n",
    "    df = None\n",
    "\n",
    "    for record in featureDictionary:\n",
    "        # Create an empty Dictionary\n",
    "        oneRecord = {}\n",
    "\n",
    "        # Initialize all the columns\n",
    "        for colName in p_featureList:\n",
    "            oneRecord[colName] = pd.to_numeric(0, downcast = 'integer')\n",
    "\n",
    "        # Loop through all the features in a record\n",
    "        for k in record.keys():\n",
    "            # Extract the column name from the record\n",
    "            if type(k) == int:\n",
    "                extractedColumnName = NUMERIC_COLUMN_IDENTIFIER + str(k)\n",
    "            else:\n",
    "                extractedColumnName = k\n",
    "\n",
    "            # Check if the column name exists in the feature list\n",
    "            if extractedColumnName in p_featureList:\n",
    "                # Extract the value for the key and store in the Dictionary\n",
    "                if ((type(record[k]) == int) | (type(record[k]) == float)):\n",
    "                    oneRecord[extractedColumnName] = pd.to_numeric(record[k], \n",
    "                                                                   downcast = 'integer')\n",
    "                else:\n",
    "                    oneRecord[extractedColumnName] = record[k]\n",
    "\n",
    "        # Add column to mark Dependent Column as per the provided File Type\n",
    "        oneRecord[FILE_TYPE_COLUMN_NAME] = pd.to_numeric(fileType, downcast = 'integer')\n",
    "        \n",
    "        # Add the Record to the Dataframe\n",
    "        if df is None:\n",
    "            df = pd.DataFrame([oneRecord], columns = oneRecord.keys())\n",
    "        else:\n",
    "            df = pd.concat([df, pd.DataFrame([oneRecord], columns = oneRecord.keys())],\n",
    "                           ignore_index = True)\n",
    "\n",
    "    return df"
   ]
  },
  {
   "cell_type": "markdown",
   "metadata": {
    "pycharm": {
     "name": "#%% md\n"
    }
   },
   "source": [
    "### Create a dataframe of attributes\n",
    "In this step, 6 dataframes are created - 1 containing the attributes from clean ELF Files and 5 containing attributes from ELF Files containing malware."
   ]
  },
  {
   "cell_type": "code",
   "execution_count": 19,
   "metadata": {
    "pycharm": {
     "name": "#%%\n"
    }
   },
   "outputs": [],
   "source": [
    "benignFileDF = fillDataInDataFrame(benignFileFeatures, featureList, BENIGN_FILE)"
   ]
  },
  {
   "cell_type": "code",
   "execution_count": 20,
   "metadata": {
    "pycharm": {
     "name": "#%%\n"
    }
   },
   "outputs": [],
   "source": [
    "backdoorFileDF = fillDataInDataFrame(backdoorFileFeatures, featureList, BACKDOOR_FILE)"
   ]
  },
  {
   "cell_type": "code",
   "execution_count": 21,
   "metadata": {
    "pycharm": {
     "name": "#%%\n"
    }
   },
   "outputs": [],
   "source": [
    "botnetFileDF = fillDataInDataFrame(botnetFileFeatures, featureList, BOTNET_FILE)"
   ]
  },
  {
   "cell_type": "code",
   "execution_count": 22,
   "metadata": {
    "pycharm": {
     "name": "#%%\n"
    }
   },
   "outputs": [],
   "source": [
    "ddosFileDF = fillDataInDataFrame(ddosFileFeatures, featureList, DDOS_FILE)"
   ]
  },
  {
   "cell_type": "code",
   "execution_count": 23,
   "metadata": {
    "pycharm": {
     "name": "#%%\n"
    }
   },
   "outputs": [],
   "source": [
    "trojanFileDF = fillDataInDataFrame(trojanFileFeatures, featureList, TROJAN_FILE)"
   ]
  },
  {
   "cell_type": "code",
   "execution_count": 24,
   "metadata": {
    "pycharm": {
     "name": "#%%\n"
    }
   },
   "outputs": [],
   "source": [
    "virusFileDF = fillDataInDataFrame(virusFileFeatures, featureList, VIRUS_FILE)"
   ]
  },
  {
   "cell_type": "code",
   "execution_count": 25,
   "metadata": {
    "pycharm": {
     "name": "#%%\n"
    }
   },
   "outputs": [],
   "source": [
    "import pandas as pd\n",
    "\n",
    "df = pd.concat([benignFileDF, \n",
    "                backdoorFileDF, \n",
    "                botnetFileDF, \n",
    "                ddosFileDF, \n",
    "                trojanFileDF, \n",
    "                virusFileDF], ignore_index=True)\n",
    "df[FILE_TYPE_COLUMN_NAME] = pd.to_numeric(df[FILE_TYPE_COLUMN_NAME], \n",
    "                                          downcast = 'integer')"
   ]
  },
  {
   "cell_type": "code",
   "execution_count": 26,
   "metadata": {
    "pycharm": {
     "name": "#%%\n"
    }
   },
   "outputs": [],
   "source": [
    "# Remove NULL character from all the Strings\n",
    "for col in df.columns:\n",
    "    if df[col].dtypes == 'object':\n",
    "        df[col].replace(chr(0), '', inplace = True)"
   ]
  },
  {
   "cell_type": "code",
   "execution_count": 27,
   "metadata": {
    "pycharm": {
     "name": "#%%\n"
    }
   },
   "outputs": [
    {
     "data": {
      "text/plain": [
       "0    2038\n",
       "3     642\n",
       "2     616\n",
       "1     589\n",
       "5     452\n",
       "4     369\n",
       "Name: FileType, dtype: int64"
      ]
     },
     "execution_count": 27,
     "metadata": {},
     "output_type": "execute_result"
    }
   ],
   "source": [
    "df[FILE_TYPE_COLUMN_NAME].value_counts()"
   ]
  },
  {
   "cell_type": "code",
   "execution_count": 28,
   "metadata": {
    "pycharm": {
     "name": "#%%\n"
    }
   },
   "outputs": [
    {
     "data": {
      "text/plain": [
       "(4706, 2540)"
      ]
     },
     "execution_count": 28,
     "metadata": {},
     "output_type": "execute_result"
    }
   ],
   "source": [
    "df.shape"
   ]
  },
  {
   "cell_type": "code",
   "execution_count": 29,
   "metadata": {
    "pycharm": {
     "name": "#%%\n"
    }
   },
   "outputs": [],
   "source": [
    "df.to_csv('./ELFDataSet.csv')"
   ]
  },
  {
   "cell_type": "code",
   "execution_count": 30,
   "metadata": {},
   "outputs": [
    {
     "name": "stdout",
     "output_type": "stream",
     "text": [
      "(4706, 2274)\n",
      "(4706, 266)\n"
     ]
    }
   ],
   "source": [
    "import numpy as np\n",
    "\n",
    "dfNumeric = df.select_dtypes(include = [np.number])\n",
    "dfNonNumeric = df.select_dtypes(exclude = [np.number])\n",
    "print(dfNumeric.shape)\n",
    "print(dfNonNumeric.shape)"
   ]
  },
  {
   "cell_type": "code",
   "execution_count": 31,
   "metadata": {},
   "outputs": [
    {
     "data": {
      "text/plain": [
       "0     ELFDATA2LSB SHT_PROGBITS SHT_RELA ELFOSABI_SY...\n",
       "1     ELFDATA2LSB SHT_PROGBITS SHT_PROGBITS ELFOSAB...\n",
       "2     ELFDATA2LSB SHT_PROGBITS SHT_RELA ELFOSABI_SY...\n",
       "3     ELFDATA2LSB SHT_PROGBITS SHT_RELA ELFOSABI_SY...\n",
       "4     ELFDATA2LSB SHT_PROGBITS SHT_RELA ELFOSABI_SY...\n",
       "Name: ConcatenatedString, dtype: object"
      ]
     },
     "execution_count": 31,
     "metadata": {},
     "output_type": "execute_result"
    }
   ],
   "source": [
    "dfNonNumeric['ConcatenatedString'] = \"\"\n",
    "for i in range(len(dfNonNumeric)):\n",
    "    oneStr = \"\"\n",
    "    for col in dfNonNumeric.columns:\n",
    "        if type(dfNonNumeric[col][i]) == type(\"abc\"):\n",
    "            oneStr = oneStr + \" \" + dfNonNumeric[col][i]\n",
    "        \n",
    "    dfNonNumeric.loc[i, 'ConcatenatedString'] = oneStr\n",
    "\n",
    "dfNonNumeric['ConcatenatedString'].head()"
   ]
  },
  {
   "cell_type": "code",
   "execution_count": 32,
   "metadata": {},
   "outputs": [
    {
     "name": "stdout",
     "output_type": "stream",
     "text": [
      "(4706, 53)\n"
     ]
    }
   ],
   "source": [
    "from sklearn.feature_extraction.text import TfidfVectorizer \n",
    "\n",
    "tfidfconverter = TfidfVectorizer(max_features = 90000, ngram_range = (1,1)) \n",
    "arrNonNumericTFIDF = tfidfconverter.fit_transform(dfNonNumeric.ConcatenatedString).toarray()\n",
    "dfNonNumericTFIDF = pd.DataFrame(arrNonNumericTFIDF, \n",
    "                                 columns = tfidfconverter.get_feature_names())\n",
    "print(dfNonNumericTFIDF.shape)"
   ]
  },
  {
   "cell_type": "code",
   "execution_count": 33,
   "metadata": {
    "pycharm": {
     "name": "#%%\n"
    }
   },
   "outputs": [],
   "source": [
    "import pandas as pd\n",
    "\n",
    "dfForModel = pd.concat([dfNumeric, dfNonNumericTFIDF], axis = 1)"
   ]
  },
  {
   "cell_type": "code",
   "execution_count": 34,
   "metadata": {
    "pycharm": {
     "name": "#%%\n"
    }
   },
   "outputs": [
    {
     "name": "stdout",
     "output_type": "stream",
     "text": [
      "(4706, 2327)\n"
     ]
    }
   ],
   "source": [
    "import pickle\n",
    "\n",
    "print(dfForModel.shape)\n",
    "pickle.dump(dfForModel, open(\"./XColumns\", 'wb'))"
   ]
  },
  {
   "cell_type": "code",
   "execution_count": 35,
   "metadata": {},
   "outputs": [
    {
     "name": "stdout",
     "output_type": "stream",
     "text": [
      "(12228, 2326)\n",
      "0    2038\n",
      "1    2038\n",
      "2    2038\n",
      "3    2038\n",
      "4    2038\n",
      "5    2038\n",
      "Name: FileType, dtype: int64\n"
     ]
    }
   ],
   "source": [
    "import imblearn as ib \n",
    "\n",
    "XTransform = dfForModel.drop([FILE_TYPE_COLUMN_NAME], axis = 1)\n",
    "yTransform = dfForModel[FILE_TYPE_COLUMN_NAME]\n",
    "\n",
    "# Transform the dataset \n",
    "oversample = ib.over_sampling.SMOTE(random_state = 42) \n",
    "XTrain, yTrain = oversample.fit_resample(XTransform, yTransform) \n",
    "print(XTrain.shape)\n",
    "print(yTrain.value_counts())"
   ]
  },
  {
   "cell_type": "markdown",
   "metadata": {
    "pycharm": {
     "name": "#%% md\n"
    }
   },
   "source": [
    "## Create the Random Forest Model"
   ]
  },
  {
   "cell_type": "code",
   "execution_count": 36,
   "metadata": {
    "pycharm": {
     "name": "#%%\n"
    }
   },
   "outputs": [
    {
     "name": "stdout",
     "output_type": "stream",
     "text": [
      "Start Time: 2023-03-14 15:51:51.913994\n",
      "End Time: 2023-03-14 15:52:45.981753\n"
     ]
    }
   ],
   "source": [
    "from sklearn.ensemble import RandomForestClassifier\n",
    "import datetime\n",
    "import pickle\n",
    "\n",
    "print('Start Time: %s' % datetime.datetime.now())\n",
    "\n",
    "# Create the Random Forest Model\n",
    "modelRF = RandomForestClassifier(n_estimators = 1000, \n",
    "                                 criterion = \"entropy\", \n",
    "                                 oob_score = True)\n",
    "\n",
    "modelRF.fit(XTrain, yTrain)\n",
    "pickle.dump(modelRF, open(\"./RFModelELFMalwareDetection\", 'wb'))\n",
    "\n",
    "print('End Time: %s' % datetime.datetime.now())"
   ]
  },
  {
   "cell_type": "code",
   "execution_count": 37,
   "metadata": {
    "pycharm": {
     "name": "#%%\n"
    }
   },
   "outputs": [
    {
     "name": "stdout",
     "output_type": "stream",
     "text": [
      "\n",
      "\n",
      "\n",
      "Accuracy of the Model: 0.9868334968923782\n",
      "\n",
      "\n",
      "Classification Report\n",
      "\n",
      "              precision    recall  f1-score   support\n",
      "\n",
      "           0       1.00      1.00      1.00      2038\n",
      "           1       0.98      1.00      0.99      2038\n",
      "           2       1.00      0.98      0.99      2038\n",
      "           3       1.00      1.00      1.00      2038\n",
      "           4       0.96      0.98      0.97      2038\n",
      "           5       0.99      0.96      0.98      2038\n",
      "\n",
      "    accuracy                           0.99     12228\n",
      "   macro avg       0.99      0.99      0.99     12228\n",
      "weighted avg       0.99      0.99      0.99     12228\n",
      "\n"
     ]
    },
    {
     "data": {
      "image/png": "[encoded data removed]",
      "text/plain": [
       "<Figure size 432x288 with 2 Axes>"
      ]
     },
     "metadata": {
      "needs_background": "light"
     },
     "output_type": "display_data"
    }
   ],
   "source": [
    "import matplotlib.pyplot as plt     \n",
    "import seaborn as sns\n",
    "from sklearn import metrics\n",
    "\n",
    "y_pred = modelRF.predict(XTrain)\n",
    "\n",
    "cm = metrics.confusion_matrix(yTrain, y_pred)\n",
    "\n",
    "ax = plt.subplot()\n",
    "sns.heatmap(cm, annot = True, fmt = 'g', ax = ax);\n",
    "\n",
    "# labels, title and ticks\n",
    "ax.set_xlabel('Predicted labels');\n",
    "ax.set_ylabel('True labels'); \n",
    "ax.set_title('Confusion Matrix'); \n",
    "ax.xaxis.set_ticklabels(['Benign', 'Backdoor', 'Botnet', 'DDOS', 'Trojan', 'Virus']); \n",
    "ax.yaxis.set_ticklabels(['Benign', 'Backdoor', 'Botnet', 'DDOS', 'Trojan', 'Virus']);\n",
    "\n",
    "print(\"\\n\\n\\nAccuracy of the Model:\", metrics.accuracy_score(yTrain, y_pred))\n",
    "print(\"\\n\\nClassification Report\\n\")\n",
    "print(metrics.classification_report(yTrain, y_pred))"
   ]
  },
  {
   "cell_type": "markdown",
   "metadata": {
    "pycharm": {
     "name": "#%% md\n"
    }
   },
   "source": [
    "## Now let us test the model"
   ]
  },
  {
   "cell_type": "code",
   "execution_count": 38,
   "metadata": {
    "pycharm": {
     "name": "#%%\n"
    }
   },
   "outputs": [
    {
     "name": "stdout",
     "output_type": "stream",
     "text": [
      "BENIGN FILES:\n",
      "Valid - 222\n",
      "Invalid - 10\n",
      "No File Header - 0\n",
      "No Program Header - 0\n",
      "No Sections - 5\n"
     ]
    }
   ],
   "source": [
    "benignTestFileFeatures, nValidFiles, nInvalidFiles, nFilesWithNoFileHeader, nFilesWithNoProgramHeader, nFilesWithNoSections = \\\n",
    "                extractInformationFromADirectory(\"Data/TestData/Benign/*\")\n",
    "print(\"BENIGN FILES:\\nValid - %d\\nInvalid - %d\\nNo File Header - %d\\nNo Program Header - %d\\nNo Sections - %d\" % \\\n",
    "      (nValidFiles, nInvalidFiles, nFilesWithNoFileHeader, nFilesWithNoProgramHeader, nFilesWithNoSections))"
   ]
  },
  {
   "cell_type": "code",
   "execution_count": 39,
   "metadata": {
    "pycharm": {
     "name": "#%%\n"
    }
   },
   "outputs": [
    {
     "name": "stdout",
     "output_type": "stream",
     "text": [
      "BACKDOOR FILES:\n",
      "Valid - 62\n",
      "Invalid - 2\n",
      "No File Header - 0\n",
      "No Program Header - 0\n",
      "No Sections - 4\n"
     ]
    }
   ],
   "source": [
    "backdoorTestFileFeatures, nValidFiles, nInvalidFiles, nFilesWithNoFileHeader, nFilesWithNoProgramHeader, nFilesWithNoSections = \\\n",
    "                extractInformationFromADirectory(\"Data/TestData/Backdoor/*\")\n",
    "print(\"BACKDOOR FILES:\\nValid - %d\\nInvalid - %d\\nNo File Header - %d\\nNo Program Header - %d\\nNo Sections - %d\" % \\\n",
    "      (nValidFiles, nInvalidFiles, nFilesWithNoFileHeader, nFilesWithNoProgramHeader, nFilesWithNoSections))"
   ]
  },
  {
   "cell_type": "code",
   "execution_count": null,
   "metadata": {
    "pycharm": {
     "name": "#%%\n"
    }
   },
   "outputs": [
    {
     "name": "stdout",
     "output_type": "stream",
     "text": [
      "BOTNET FILES:\n",
      "Valid - 61\n",
      "Invalid - 6\n",
      "No File Header - 0\n",
      "No Program Header - 0\n",
      "No Sections - 2\n"
     ]
    }
   ],
   "source": [
    "botnetTestFileFeatures, nValidFiles, nInvalidFiles, nFilesWithNoFileHeader, nFilesWithNoProgramHeader, nFilesWithNoSections = \\\n",
    "                extractInformationFromADirectory(\"Data/TestData/Botnet/*\")\n",
    "print(\"BOTNET FILES:\\nValid - %d\\nInvalid - %d\\nNo File Header - %d\\nNo Program Header - %d\\nNo Sections - %d\" % \\\n",
    "      (nValidFiles, nInvalidFiles, nFilesWithNoFileHeader, nFilesWithNoProgramHeader, nFilesWithNoSections))"
   ]
  },
  {
   "cell_type": "code",
   "execution_count": null,
   "metadata": {
    "pycharm": {
     "name": "#%%\n"
    }
   },
   "outputs": [
    {
     "name": "stdout",
     "output_type": "stream",
     "text": [
      "DDOS FILES:\n",
      "Valid - 71\n",
      "Invalid - 3\n",
      "No File Header - 0\n",
      "No Program Header - 0\n",
      "No Sections - 0\n"
     ]
    }
   ],
   "source": [
    "ddosTestFileFeatures, nValidFiles, nInvalidFiles, nFilesWithNoFileHeader, nFilesWithNoProgramHeader, nFilesWithNoSections = \\\n",
    "                extractInformationFromADirectory(\"Data/TestData/Ddos/*\")\n",
    "print(\"DDOS FILES:\\nValid - %d\\nInvalid - %d\\nNo File Header - %d\\nNo Program Header - %d\\nNo Sections - %d\" % \\\n",
    "      (nValidFiles, nInvalidFiles, nFilesWithNoFileHeader, nFilesWithNoProgramHeader, nFilesWithNoSections))"
   ]
  },
  {
   "cell_type": "code",
   "execution_count": null,
   "metadata": {
    "pycharm": {
     "name": "#%%\n"
    }
   },
   "outputs": [
    {
     "name": "stdout",
     "output_type": "stream",
     "text": [
      "TROJAN FILES:\n",
      "Valid - 40\n",
      "Invalid - 3\n",
      "No File Header - 0\n",
      "No Program Header - 0\n",
      "No Sections - 4\n"
     ]
    }
   ],
   "source": [
    "trojanTestFileFeatures, nValidFiles, nInvalidFiles, nFilesWithNoFileHeader, nFilesWithNoProgramHeader, nFilesWithNoSections = \\\n",
    "                extractInformationFromADirectory(\"Data/TestData/Trojan/*\")\n",
    "print(\"TROJAN FILES:\\nValid - %d\\nInvalid - %d\\nNo File Header - %d\\nNo Program Header - %d\\nNo Sections - %d\" % \\\n",
    "      (nValidFiles, nInvalidFiles, nFilesWithNoFileHeader, nFilesWithNoProgramHeader, nFilesWithNoSections))"
   ]
  },
  {
   "cell_type": "code",
   "execution_count": null,
   "metadata": {
    "pycharm": {
     "name": "#%%\n"
    }
   },
   "outputs": [
    {
     "name": "stdout",
     "output_type": "stream",
     "text": [
      "VIRUS FILES:\n",
      "Valid - 48\n",
      "Invalid - 4\n",
      "No File Header - 0\n",
      "No Program Header - 0\n",
      "No Sections - 4\n"
     ]
    }
   ],
   "source": [
    "virusTestFileFeatures, nValidFiles, nInvalidFiles, nFilesWithNoFileHeader, nFilesWithNoProgramHeader, nFilesWithNoSections = \\\n",
    "                extractInformationFromADirectory(\"Data/TestData/Virus/*\")\n",
    "print(\"VIRUS FILES:\\nValid - %d\\nInvalid - %d\\nNo File Header - %d\\nNo Program Header - %d\\nNo Sections - %d\" % \\\n",
    "      (nValidFiles, nInvalidFiles, nFilesWithNoFileHeader, nFilesWithNoProgramHeader, nFilesWithNoSections))"
   ]
  },
  {
   "cell_type": "code",
   "execution_count": null,
   "metadata": {
    "pycharm": {
     "name": "#%%\n"
    }
   },
   "outputs": [],
   "source": [
    "benignTestFileDF = fillDataInDataFrame(benignTestFileFeatures, featureList, BENIGN_FILE)"
   ]
  },
  {
   "cell_type": "code",
   "execution_count": null,
   "metadata": {
    "pycharm": {
     "name": "#%%\n"
    }
   },
   "outputs": [],
   "source": [
    "backdoorTestFileDF = fillDataInDataFrame(backdoorTestFileFeatures, featureList, BACKDOOR_FILE)"
   ]
  },
  {
   "cell_type": "code",
   "execution_count": null,
   "metadata": {
    "pycharm": {
     "name": "#%%\n"
    }
   },
   "outputs": [],
   "source": [
    "botnetTestFileDF = fillDataInDataFrame(botnetTestFileFeatures, featureList, BOTNET_FILE)"
   ]
  },
  {
   "cell_type": "code",
   "execution_count": null,
   "metadata": {
    "pycharm": {
     "name": "#%%\n"
    }
   },
   "outputs": [],
   "source": [
    "ddosTestFileDF = fillDataInDataFrame(ddosTestFileFeatures, featureList, DDOS_FILE)"
   ]
  },
  {
   "cell_type": "code",
   "execution_count": null,
   "metadata": {
    "pycharm": {
     "name": "#%%\n"
    }
   },
   "outputs": [],
   "source": [
    "trojanTestFileDF = fillDataInDataFrame(trojanTestFileFeatures, featureList, TROJAN_FILE)"
   ]
  },
  {
   "cell_type": "code",
   "execution_count": null,
   "metadata": {
    "pycharm": {
     "name": "#%%\n"
    }
   },
   "outputs": [],
   "source": [
    "virusTestFileDF = fillDataInDataFrame(virusTestFileFeatures, featureList, VIRUS_FILE)"
   ]
  },
  {
   "cell_type": "code",
   "execution_count": null,
   "metadata": {
    "pycharm": {
     "name": "#%%\n"
    }
   },
   "outputs": [],
   "source": [
    "import pandas as pd\n",
    "\n",
    "dfTest = pd.concat([benignTestFileDF, \n",
    "                    backdoorTestFileDF, \n",
    "                    botnetTestFileDF, \n",
    "                    ddosTestFileDF, \n",
    "                    trojanTestFileDF, \n",
    "                    virusTestFileDF], ignore_index = True)\n",
    "dfTest[FILE_TYPE_COLUMN_NAME] = pd.to_numeric(dfTest[FILE_TYPE_COLUMN_NAME], \n",
    "                                              downcast = 'integer')"
   ]
  },
  {
   "cell_type": "code",
   "execution_count": null,
   "metadata": {
    "pycharm": {
     "name": "#%%\n"
    }
   },
   "outputs": [],
   "source": [
    "# Remove NULL character from all the String\n",
    "for col in dfTest.columns:\n",
    "    if dfTest[col].dtypes == 'object':\n",
    "        dfTest[col].replace(chr(0), '', inplace = True)"
   ]
  },
  {
   "cell_type": "code",
   "execution_count": null,
   "metadata": {
    "pycharm": {
     "name": "#%%\n"
    }
   },
   "outputs": [
    {
     "data": {
      "text/plain": [
       "0    222\n",
       "3     71\n",
       "1     62\n",
       "2     61\n",
       "5     48\n",
       "4     40\n",
       "Name: FileType, dtype: int64"
      ]
     },
     "execution_count": 52,
     "metadata": {},
     "output_type": "execute_result"
    }
   ],
   "source": [
    "dfTest[FILE_TYPE_COLUMN_NAME].value_counts()"
   ]
  },
  {
   "cell_type": "code",
   "execution_count": null,
   "metadata": {
    "pycharm": {
     "name": "#%%\n"
    }
   },
   "outputs": [
    {
     "data": {
      "text/plain": [
       "(504, 2540)"
      ]
     },
     "execution_count": 53,
     "metadata": {},
     "output_type": "execute_result"
    }
   ],
   "source": [
    "dfTest.shape"
   ]
  },
  {
   "cell_type": "code",
   "execution_count": null,
   "metadata": {},
   "outputs": [
    {
     "name": "stdout",
     "output_type": "stream",
     "text": [
      "(504, 2416)\n",
      "(504, 124)\n"
     ]
    }
   ],
   "source": [
    "import numpy as np\n",
    "\n",
    "dfTestNumeric = dfTest.select_dtypes(include = [np.number])\n",
    "dfTestNonNumeric = dfTest.select_dtypes(exclude = [np.number])\n",
    "print(dfTestNumeric.shape)\n",
    "print(dfTestNonNumeric.shape)"
   ]
  },
  {
   "cell_type": "code",
   "execution_count": null,
   "metadata": {},
   "outputs": [
    {
     "data": {
      "text/plain": [
       "(504, 2273)"
      ]
     },
     "execution_count": 55,
     "metadata": {},
     "output_type": "execute_result"
    }
   ],
   "source": [
    "columnsInModel = XTrain.columns\n",
    "columnsToDrop = []\n",
    "for col in dfTestNumeric.columns:\n",
    "    if col not in set(columnsInModel):\n",
    "        columnsToDrop.append(col)\n",
    "dfTestNumeric.drop(columnsToDrop, axis = 1, inplace = True)\n",
    "dfTestNumeric.shape                                                                               "
   ]
  },
  {
   "cell_type": "code",
   "execution_count": null,
   "metadata": {},
   "outputs": [
    {
     "data": {
      "text/plain": [
       "0     ELFDATA2LSB SHT_PROGBITS SHT_RELA ELFOSABI_SY...\n",
       "1     ELFDATA2LSB SHT_PROGBITS SHT_RELA ELFOSABI_SY...\n",
       "2     ELFDATA2LSB SHT_PROGBITS SHT_RELA ELFOSABI_SY...\n",
       "3     ELFDATA2LSB SHT_PROGBITS SHT_RELA ELFOSABI_SY...\n",
       "4     ELFDATA2LSB SHT_PROGBITS SHT_RELA ELFOSABI_SY...\n",
       "Name: ConcatenatedString, dtype: object"
      ]
     },
     "execution_count": 56,
     "metadata": {},
     "output_type": "execute_result"
    }
   ],
   "source": [
    "dfTestNonNumeric['ConcatenatedString'] = \"\"\n",
    "for i in range(len(dfTestNonNumeric)):\n",
    "    oneStr = \"\"\n",
    "    for col in dfTestNonNumeric.columns:\n",
    "        if type(dfTestNonNumeric[col][i]) == type(\"abc\"):\n",
    "            oneStr = oneStr + \" \" + dfTestNonNumeric[col][i]\n",
    "        \n",
    "    dfTestNonNumeric.loc[i, 'ConcatenatedString'] = oneStr\n",
    "\n",
    "dfTestNonNumeric['ConcatenatedString'].head()"
   ]
  },
  {
   "cell_type": "code",
   "execution_count": null,
   "metadata": {},
   "outputs": [
    {
     "name": "stdout",
     "output_type": "stream",
     "text": [
      "(504, 53)\n"
     ]
    }
   ],
   "source": [
    "arrTestNonNumericTFIDF = tfidfconverter.transform(dfTestNonNumeric.ConcatenatedString).toarray()\n",
    "dfTestNonNumericTFIDF = pd.DataFrame(arrTestNonNumericTFIDF, columns = tfidfconverter.get_feature_names())\n",
    "print(dfTestNonNumericTFIDF.shape)"
   ]
  },
  {
   "cell_type": "code",
   "execution_count": null,
   "metadata": {
    "pycharm": {
     "name": "#%%\n"
    }
   },
   "outputs": [
    {
     "name": "stdout",
     "output_type": "stream",
     "text": [
      "(504, 2326)\n"
     ]
    }
   ],
   "source": [
    "import pandas as pd\n",
    "\n",
    "XTest = pd.concat([dfTestNumeric, dfTestNonNumericTFIDF], axis = 1)\n",
    "print(XTest.shape)\n",
    "yTest = dfTest[FILE_TYPE_COLUMN_NAME]"
   ]
  },
  {
   "cell_type": "code",
   "execution_count": null,
   "metadata": {
    "pycharm": {
     "name": "#%%\n"
    }
   },
   "outputs": [
    {
     "name": "stdout",
     "output_type": "stream",
     "text": [
      "\n",
      "\n",
      "\n",
      "Accuracy of the Model: 0.8670634920634921\n",
      "\n",
      "\n",
      "Classification Report\n",
      "\n",
      "              precision    recall  f1-score   support\n",
      "\n",
      "           0       1.00      0.99      0.99       222\n",
      "           1       0.83      0.73      0.78        62\n",
      "           2       0.80      0.72      0.76        61\n",
      "           3       0.82      0.87      0.84        71\n",
      "           4       0.58      0.75      0.65        40\n",
      "           5       0.79      0.77      0.78        48\n",
      "\n",
      "    accuracy                           0.87       504\n",
      "   macro avg       0.80      0.80      0.80       504\n",
      "weighted avg       0.87      0.87      0.87       504\n",
      "\n"
     ]
    },
    {
     "data": {
      "image/png": "[encoded data removed]",
      "text/plain": [
       "<Figure size 432x288 with 2 Axes>"
      ]
     },
     "metadata": {
      "needs_background": "light"
     },
     "output_type": "display_data"
    }
   ],
   "source": [
    "import matplotlib.pyplot as plt     \n",
    "import seaborn as sns\n",
    "from sklearn import metrics\n",
    "\n",
    "y_pred = modelRF.predict(XTest)\n",
    "\n",
    "cm = metrics.confusion_matrix(yTest, y_pred)\n",
    "\n",
    "ax= plt.subplot()\n",
    "sns.heatmap(cm, annot = True, fmt = 'g', ax = ax);\n",
    "\n",
    "# labels, title and ticks\n",
    "ax.set_xlabel('Predicted labels');\n",
    "ax.set_ylabel('True labels'); \n",
    "ax.set_title('Confusion Matrix'); \n",
    "ax.xaxis.set_ticklabels(['Benign', 'Backdoor', 'Botnet', 'DDOS', 'Trojan', 'Virus']); \n",
    "ax.yaxis.set_ticklabels(['Benign', 'Backdoor', 'Botnet', 'DDOS', 'Trojan', 'Virus']);\n",
    "\n",
    "print(\"\\n\\n\\nAccuracy of the Model:\", metrics.accuracy_score(yTest, y_pred))\n",
    "print(\"\\n\\nClassification Report\\n\")\n",
    "print(metrics.classification_report(yTest, y_pred))"
   ]
  }
 ],
 "metadata": {
  "kernelspec": {
   "display_name": "Python 3 (ipykernel)",
   "language": "python",
   "name": "python3"
  },
  "language_info": {
   "codemirror_mode": {
    "name": "ipython",
    "version": 3
   },
   "file_extension": ".py",
   "mimetype": "text/x-python",
   "name": "python",
   "nbconvert_exporter": "python",
   "pygments_lexer": "ipython3",
   "version": "3.9.12"
  }
 },
 "nbformat": 4,
 "nbformat_minor": 4
}
