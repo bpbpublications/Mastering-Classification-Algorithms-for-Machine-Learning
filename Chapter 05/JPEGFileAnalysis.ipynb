{
 "cells": [
  {
   "cell_type": "markdown",
   "metadata": {},
   "source": [
    "Cybersecurity is of paramount importance in the modern world for any government and any enterprise. Governments and Enterprises are under constant cyber attacks from all kinds of adversaries. It is said that the next war will be fought in the Cyber Space. So, it is of utmost importance to develop products and strategies to be able to deal with the threat of cyber attacks.\n",
    "\n",
    "One of the means of cyber-attacks is through malwares. Malwares are malicious computer programs embedded in the software of regular use. For example, an email may carry a malware that can infect the machine of the receiver of the email and then spread across an enterprise.\n",
    "\n",
    "One very ubiquitous file exchanged by people across the globe are images. The advent of social media has boosted the exchange of images. Images can be exchanged not only between two computers; but also using devices like mobile phone, etc. Also, it is the tendency of people to spread images across wide circles. So, developers of malware target embedding their malicious code into images so that it gets a lot of traction.\n",
    "\n",
    "One of the very popular forms of image files is JPEG files. So, infecting JPEG files has lots of incentives for malware developers. So far, anitivirus software has been developed which studies signatures inside the JPEG files to detect presence of malware. However, this technique is expensive as large teams have to be deployed to constantly research for new signatures. **This notebook aims to use supervised machine learning so that computers can detect the malware in JPEG files without having to constantly feed the computer with knowledge of new signatures.**"
   ]
  },
  {
   "cell_type": "markdown",
   "metadata": {},
   "source": [
    "## About JPEG Files\n",
    "\n",
    "JPEG Files are compressed files used to store images. The JPEG Files can be identified by a marker 0xFFD8 at the start of the file.\n",
    "\n",
    "The information in the JPEG Files can be classified into 2 types - Image Data and EXIF Tags. EXIF Tags were added to JPEG file format in 2010.\n",
    "\n",
    "### The Image Data of JPEG files have the following segments:\n",
    "1. Header\n",
    "2. 2 Quantization Tables\n",
    "3. Frame Information\n",
    "\n",
    "The **Header** segment contains the following data:\n",
    "1. Identifier (OxJFIF for JPEG, etc)\n",
    "2. Version\n",
    "3. Units\n",
    "4. Density\n",
    "5. Thumbnail\n",
    "\n",
    "The **Quantization Table 1** contains the data regarding the luminance of the image. It is an 8 * 8 table.\n",
    "The **Quantization Table 2** contains the data regarding the chrominance of the image. It is an 8 * 8 table.\n",
    "\n",
    "The **Frame Information** is a series of Huffman-encoded tables containing the bit pattern of the image.\n",
    "\n",
    "*The important thing to note is that if any of the above values is tampered with, the JPEG file will not render appropriately.* So, the developers of Malware do not tamper with this part of JPEG files to introduce malware.\n",
    "\n",
    "### EXIF Tags\n",
    "Exif Tags provide additional information to the JPEG Files. The EXIF Tags can be altered programmatically to alter the nature of the image stored in the JPEG files. For example, by altering the Exif Tag BrightnessValue, the brightness of the image can be altered. Similarly, by altering the Exif Tags ExifImageHeight and ExifImageWidth, the size of the image can be altered.\n",
    "\n",
    "Exif Tags provide the facility for photograph editors to make enhancements/alterations to an image stored as a JPEG File. *As these are values that can be altered, the developers of Malware alter these tags to introduce their spurious code.* **One way to clean an infected JPEG file is to convert the JPEG File to a BMP File. BMP Files can only contain image information and do not support any Exif tags. Converting to BMP files gets rid of the Exif tags and thus the JPEG files get cleaned of malware.**\n",
    "\n",
    "A JPEG File may contain Exif Tags or may not contain Exif Tags. Definitely, JPEG Files created before 2010 do not contain Exif Tags.\n",
    "\n",
    "### Conclusion\n",
    "If a JPEG File does not contain Exif tags, then it can be safe to state that the JPEG File can be considered a clean file.\n",
    "\n",
    "So, **for malware analysis, we need to concentrating only on JPEG Files that contain Exif Tags.**"
   ]
  },
  {
   "cell_type": "markdown",
   "metadata": {},
   "source": [
    "## Building and Testing the model\n",
    "\n",
    "The document states all the programming steps taken to build and test the model."
   ]
  },
  {
   "cell_type": "markdown",
   "metadata": {},
   "source": [
    "### Constants\n",
    "Constants were used to avoid hard coding. This also gave the advantage that indicators could be changed in one place to impact the complete program."
   ]
  },
  {
   "cell_type": "code",
   "execution_count": 1,
   "metadata": {},
   "outputs": [],
   "source": [
    "# Constants\n",
    "FILE_NAME_COLUMN_NAME = 'FileName'\n",
    "FILE_TYPE_COLUMN_NAME = 'FileType'\n",
    "TAG_STRING_COLUMN_NAME = 'TagString'\n",
    "NUMERIC_COLUMN_IDENTIFIER = 'AAA'\n",
    "BENIGN_FILE = 0\n",
    "FILE_WITH_MALWARE = 1"
   ]
  },
  {
   "cell_type": "markdown",
   "metadata": {},
   "source": [
    "### Functions used to extract EXIF Tags from JPEG Files\n",
    "The following three functions were used to extract the EXIF Tags from the JPEG Files.\n",
    "\n",
    "#### extractTagsFromADirectory\n",
    "This function takes a single file name or a set of file names and returns the Tags extracted from all the JPEG Files as a List. Along with the Tags found in the set of JPEG Files, this function returns the number of valid JPEG Files, the number of invalid JPEG files and the number of JPEG Files that contained no tags.\n",
    "\n",
    "This function calls the functions JPEGFileFeatureExtractorToDictionary() and isImageFile().\n",
    "\n",
    "#### JPEGFileFeatureExtractorToDictionary\n",
    "This function takes one JPEG file as input and returns all the EXIF Tags in the JPEG file in a Dictionary as output.\n",
    "\n",
    "#### isImageFile\n",
    "This function takes a file as input and returns TRUE if the file is a JPEG File and returns FALSE if the file is not a JPEG File."
   ]
  },
  {
   "cell_type": "code",
   "execution_count": 2,
   "metadata": {},
   "outputs": [],
   "source": [
    "import glob\n",
    "\n",
    "def extractTagsFromADirectory(inputDirectory):\n",
    "    # Declare Counters\n",
    "    numberOfValidFiles = 0\n",
    "    numberOfInvalidFiles = 0\n",
    "    numberOfFilesWithoutTags = 0\n",
    "\n",
    "    # Create an Empty List to hold all the features of all the files\n",
    "    returnValue = []\n",
    "    \n",
    "    n = 0\n",
    "    \n",
    "    # Loop through all the files in the Input Directory\n",
    "    for file in glob.glob(inputDirectory):\n",
    "        # Create an empty Dictionary\n",
    "        oneFileFeatures = {}\n",
    "        \n",
    "        try:\n",
    "            # Read the file and extract the features\n",
    "            fileFeatures = JPEGFileFeatureExtractorToDictionary(file)\n",
    "\n",
    "            # If the File had some features, then create an entry for the file\n",
    "            if len(fileFeatures.keys()) > 0:\n",
    "                # Write the File Name\n",
    "                oneFileFeatures[FILE_NAME_COLUMN_NAME] = file\n",
    "\n",
    "                # Add the File Features to the main Dictionary\n",
    "                oneFileFeatures.update(fileFeatures)\n",
    "            \n",
    "                # Add the entry to the return value\n",
    "                returnValue.append(oneFileFeatures)\n",
    "                \n",
    "                numberOfValidFiles = numberOfValidFiles + 1\n",
    "            else:\n",
    "                # Check if the file is a valid Image File\n",
    "                if isImageFile(file):\n",
    "                    numberOfFilesWithoutTags = numberOfFilesWithoutTags + 1\n",
    "                else:\n",
    "                    numberOfInvalidFiles = numberOfInvalidFiles + 1\n",
    " \n",
    "        except:\n",
    "            # Check if the file is a valid Image File\n",
    "            if isImageFile(file):\n",
    "                numberOfFilesWithoutTags = numberOfFilesWithoutTags + 1\n",
    "            else:\n",
    "                numberOfInvalidFiles = numberOfInvalidFiles + 1\n",
    "            \n",
    "    return (returnValue, numberOfValidFiles, numberOfInvalidFiles, numberOfFilesWithoutTags)"
   ]
  },
  {
   "cell_type": "code",
   "execution_count": 3,
   "metadata": {},
   "outputs": [],
   "source": [
    "from PIL import Image\n",
    "from PIL.ExifTags import TAGS\n",
    "\n",
    "def JPEGFileFeatureExtractorToDictionary(imageFile):\n",
    "    #Declare an empty Dictionary\n",
    "    returnValue = {}\n",
    "    \n",
    "    # read the image data using PIL\n",
    "    image = Image.open(imageFile)\n",
    "    \n",
    "    # extract EXIF data\n",
    "    exifdata = image.getexif()\n",
    "\n",
    "    # iterating over all EXIF data fields\n",
    "    for tag_id in exifdata:\n",
    "        # get the tag name\n",
    "        tag = TAGS.get(tag_id, tag_id)\n",
    "        data = exifdata.get(tag_id)\n",
    "        # decode bytes \n",
    "        if isinstance(data, bytes):\n",
    "            data = data.decode('iso8859-1')\n",
    "\n",
    "        returnValue[tag] = data\n",
    "        \n",
    "    return returnValue"
   ]
  },
  {
   "cell_type": "code",
   "execution_count": 4,
   "metadata": {},
   "outputs": [],
   "source": [
    "from PIL import Image\n",
    "\n",
    "def isImageFile(imageFileName):\n",
    "    returnValue = True\n",
    "    \n",
    "    try:\n",
    "        img = Image.open('./' + imageFileName) # open the image file\n",
    "        img.verify() # verify that it is an image\n",
    "    except (IOError, SyntaxError) as e:\n",
    "        returnValue = False\n",
    "        \n",
    "    return returnValue"
   ]
  },
  {
   "cell_type": "markdown",
   "metadata": {},
   "source": [
    "### Extracting Features from Benign Files\n",
    "\n",
    "In this step, the program extracts all the features from the clean JPEG Files. All the clean JPEG files were stored in a separate directory for easy classification."
   ]
  },
  {
   "cell_type": "code",
   "execution_count": 5,
   "metadata": {},
   "outputs": [
    {
     "name": "stdout",
     "output_type": "stream",
     "text": [
      "Valid JPEG Files = 4582\n",
      "Invalid Image Files = 0\n",
      "JPEG Files without Tags = 816\n"
     ]
    }
   ],
   "source": [
    "benignFileFeatures, numValidFiles, numInvalidFiles, numFilesWithoutTags = extractTagsFromADirectory(\"./Data/clean_jpeg/*.j*\")\n",
    "print(\"Valid JPEG Files = %d\\nInvalid Image Files = %d\\nJPEG Files without Tags = %d\" % (numValidFiles, numInvalidFiles, numFilesWithoutTags))"
   ]
  },
  {
   "cell_type": "markdown",
   "metadata": {},
   "source": [
    "### Extracting Features from File containing Malware\n",
    "In this step, the program extracts the features from the JPEG files containing malware."
   ]
  },
  {
   "cell_type": "code",
   "execution_count": 6,
   "metadata": {},
   "outputs": [
    {
     "name": "stdout",
     "output_type": "stream",
     "text": [
      "Valid JPEG Files = 400\n",
      "Invalid Image Files = 12\n",
      "JPEG Files without Tags = 3\n"
     ]
    }
   ],
   "source": [
    "malwareFileFeatures, numValidFiles, numInvalidFiles, numFilesWithoutTags = extractTagsFromADirectory(\"./Data/malicious_files/*\")\n",
    "print(\"Valid JPEG Files = %d\\nInvalid Image Files = %d\\nJPEG Files without Tags = %d\" % (numValidFiles, numInvalidFiles, numFilesWithoutTags))"
   ]
  },
  {
   "cell_type": "markdown",
   "metadata": {},
   "source": [
    "### Creating a Data Frame containing all the Keys extracted in the previous step\n",
    "\n",
    "#### fillDataInDataFrame\n",
    "Function to create a data frame of all the tags available in the set of JPEG Files."
   ]
  },
  {
   "cell_type": "code",
   "execution_count": 7,
   "metadata": {},
   "outputs": [],
   "source": [
    "import pandas as pd\n",
    "from tqdm import tqdm\n",
    "\n",
    "def fillDataInDataFrame(featureDictionary, extractionDescription, fileType):\n",
    "    # Create an Empty DataFrame object\n",
    "    df = pd.DataFrame()\n",
    "\n",
    "    for record in tqdm(featureDictionary, desc = extractionDescription):\n",
    "        # Create an empty Dictionary\n",
    "        oneRecord = {}\n",
    "\n",
    "        # Create an empty string\n",
    "        recordString = \"\"\n",
    "\n",
    "        # Loop through all the features in a record\n",
    "        for k in record.keys():\n",
    "            # Extract the value for the key and append to the record string\n",
    "            # This will be used for TFID\n",
    "            # Add a SPACE between each tag value\n",
    "            # Do not include File Name\n",
    "            if k != FILE_NAME_COLUMN_NAME:\n",
    "                recordString = recordString + str(record[k]) + \" \"\n",
    "\n",
    "        # Add the record string as a separate column in the record\n",
    "        oneRecord[TAG_STRING_COLUMN_NAME] = recordString[:-1]\n",
    "\n",
    "        # Add column to mark Dependent Column as Benign File\n",
    "        oneRecord[FILE_TYPE_COLUMN_NAME] = pd.to_numeric(fileType, downcast = 'integer')\n",
    "\n",
    "        # Add the Record to the Data Frame\n",
    "        df = pd.concat([df, \n",
    "                        pd.DataFrame(oneRecord, \n",
    "                                     columns = [TAG_STRING_COLUMN_NAME, FILE_TYPE_COLUMN_NAME],\n",
    "                                     index = [0])])\n",
    "\n",
    "    return df"
   ]
  },
  {
   "cell_type": "markdown",
   "metadata": {},
   "source": [
    "### Creating data frames of tags\n",
    "In this step, 2 data frames are created - one containing the tags from clean JPEG Files and one containing tags from JPEG Files containing malware."
   ]
  },
  {
   "cell_type": "code",
   "execution_count": 8,
   "metadata": {},
   "outputs": [
    {
     "name": "stderr",
     "output_type": "stream",
     "text": [
      "Extracting Clean Files Features: 100%|██████████| 4582/4582 [00:02<00:00, 1629.44it/s]\n",
      "Extracting Features from Files with Malware: 100%|██████████| 400/400 [00:00<00:00, 1612.52it/s]\n"
     ]
    }
   ],
   "source": [
    "benignFileDF = fillDataInDataFrame(benignFileFeatures, 'Extracting Clean Files Features', BENIGN_FILE)\n",
    "malignantFileDF = fillDataInDataFrame(malwareFileFeatures, 'Extracting Features from Files with Malware', FILE_WITH_MALWARE)"
   ]
  },
  {
   "cell_type": "markdown",
   "metadata": {},
   "source": [
    "### Creating a single data frame containing all the tags\n",
    "In this step, the 2 data frames created in the previous step are concatenated into a single data frame."
   ]
  },
  {
   "cell_type": "code",
   "execution_count": 9,
   "metadata": {},
   "outputs": [],
   "source": [
    "df = pd.concat([benignFileDF, malignantFileDF], ignore_index = True)\n",
    "df['FileType'] = pd.to_numeric(df['FileType'], downcast='integer')"
   ]
  },
  {
   "cell_type": "markdown",
   "metadata": {},
   "source": [
    "In the next step, the CHR(0) is eliminated from the tags.\n",
    "\n",
    "So far, we have extracted the features from the JPEG Files. Features were extracted from JPEG Files containing malware and clean JPEG Files. Now, these features need to be organized so that models can be prepared for classifying JPEG Files as Clean or JPEG Files Containing Malware."
   ]
  },
  {
   "cell_type": "markdown",
   "metadata": {},
   "source": [
    "**Notice that we have 4,582 clean JPEG Files and 400 JPEG Files with Malware in our data frame.**"
   ]
  },
  {
   "cell_type": "code",
   "execution_count": 10,
   "metadata": {},
   "outputs": [
    {
     "data": {
      "text/plain": [
       "0    4582\n",
       "1     400\n",
       "Name: FileType, dtype: int64"
      ]
     },
     "execution_count": 10,
     "metadata": {},
     "output_type": "execute_result"
    }
   ],
   "source": [
    "df[FILE_TYPE_COLUMN_NAME].value_counts()"
   ]
  },
  {
   "cell_type": "code",
   "execution_count": 11,
   "metadata": {},
   "outputs": [],
   "source": [
    "dfTFID = df[[TAG_STRING_COLUMN_NAME, FILE_TYPE_COLUMN_NAME]].copy()"
   ]
  },
  {
   "cell_type": "code",
   "execution_count": 12,
   "metadata": {},
   "outputs": [],
   "source": [
    "dfTFIDClean = pd.DataFrame()\n",
    "for i in dfTFID.index:\n",
    "    dfTFIDClean.loc[i, TAG_STRING_COLUMN_NAME] = dfTFID.iloc[i, 0].replace(chr(0), '')\n",
    "    dfTFIDClean.loc[i, FILE_TYPE_COLUMN_NAME] = dfTFID.iloc[i, 1]"
   ]
  },
  {
   "cell_type": "code",
   "execution_count": 13,
   "metadata": {},
   "outputs": [
    {
     "data": {
      "text/plain": [
       "(4982, 2)"
      ]
     },
     "execution_count": 13,
     "metadata": {},
     "output_type": "execute_result"
    }
   ],
   "source": [
    "dfTFIDClean.shape"
   ]
  },
  {
   "cell_type": "markdown",
   "metadata": {},
   "source": [
    "### Forming the TF-IDF\n",
    "TF-IDF is the acronym for **Term Frequency-Inverse Document Frequency**. TF-IDF is a numerical statistic that is intended to reflect how important a word is to a document in a collection or corpus. In this case, each JPEG file is a document in the collection and each tag or part of a tag in each JPEG File is a Term.\n",
    "\n",
    "The TF-IDF is stored in an array with each element of the array corresponding to a JPEG file in the same order as we formed the data frame. This forms the set of independent variables for our Machine Learning model. The independent variables are stored in variable **X**. The dependent variable is the set of FILE-TYPE as recorded while loading the JPEG Files *(Remember that the clean JPEG files were stored in a separate directory and all these files were read as a set and marked as benign. Similarly, all the JPEG files with malware were stored in a separate directory and read as a set and marked as MALWARE).*"
   ]
  },
  {
   "cell_type": "code",
   "execution_count": 14,
   "metadata": {},
   "outputs": [],
   "source": [
    "from sklearn.feature_extraction.text import TfidfVectorizer\n",
    "\n",
    "tfidfconverter = TfidfVectorizer(max_features = 90000, ngram_range = (1,4))\n",
    "X = tfidfconverter.fit_transform(dfTFIDClean.TagString).toarray()"
   ]
  },
  {
   "cell_type": "code",
   "execution_count": 15,
   "metadata": {},
   "outputs": [
    {
     "data": {
      "text/plain": [
       "0    4582\n",
       "1     400\n",
       "Name: FileType, dtype: int64"
      ]
     },
     "execution_count": 15,
     "metadata": {},
     "output_type": "execute_result"
    }
   ],
   "source": [
    "y = dfTFID.FileType\n",
    "y.value_counts()"
   ]
  },
  {
   "cell_type": "code",
   "execution_count": 16,
   "metadata": {},
   "outputs": [
    {
     "data": {
      "text/plain": [
       "(4982, 39747)"
      ]
     },
     "execution_count": 16,
     "metadata": {},
     "output_type": "execute_result"
    }
   ],
   "source": [
    "X.shape"
   ]
  },
  {
   "cell_type": "markdown",
   "metadata": {},
   "source": [
    "### Principal Component Analysis (PCA)\n",
    "After forming the TF-IDF, we see that we have nearly 40,000 features. This is a lot of features. From among so many features, not many will contribute to the model. So, we need to reduce the number of features to a smaller number and only retain the features which will meaningfully contribute to the model.\n",
    "\n",
    "To do so, we use PCA. First, we will run the PCA function as it is and determine how many features are contributing maximum to the model. Then, we will transform our input data to only retain the most important features."
   ]
  },
  {
   "cell_type": "code",
   "execution_count": 17,
   "metadata": {},
   "outputs": [
    {
     "name": "stdout",
     "output_type": "stream",
     "text": [
      "(4982, 4982)\n"
     ]
    }
   ],
   "source": [
    "from sklearn.decomposition import PCA\n",
    "\n",
    "pca = PCA(random_state = 42)\n",
    "XTrail = pca.fit_transform(X)\n",
    "print(XTrail.shape)"
   ]
  },
  {
   "cell_type": "code",
   "execution_count": 18,
   "metadata": {},
   "outputs": [
    {
     "data": {
      "text/plain": [
       "<AxesSubplot:title={'center':'Variability Explained by Principal Components'}>"
      ]
     },
     "execution_count": 18,
     "metadata": {},
     "output_type": "execute_result"
    },
    {
     "data": {
      "image/png": "[encoded data removed]",
      "text/plain": [
       "<Figure size 648x432 with 1 Axes>"
      ]
     },
     "metadata": {
      "needs_background": "light"
     },
     "output_type": "display_data"
    }
   ],
   "source": [
    "pcaPlot = pd.Series(data = pca.explained_variance_.cumsum())\n",
    "pcaPlot.plot(title = 'Variability Explained by Principal Components', \n",
    "             figsize = (9,6), legend = False)"
   ]
  },
  {
   "cell_type": "markdown",
   "metadata": {},
   "source": [
    "We see that about 4,800 variables explain about 95% of the variability in the data. So, we will retain only 4,800 features as determined by PCA."
   ]
  },
  {
   "cell_type": "code",
   "execution_count": 19,
   "metadata": {},
   "outputs": [
    {
     "name": "stdout",
     "output_type": "stream",
     "text": [
      "(4982, 4800)\n"
     ]
    }
   ],
   "source": [
    "pca = PCA(n_components = 4800, random_state = 42)\n",
    "X = pca.fit_transform(X)\n",
    "print(X.shape)"
   ]
  },
  {
   "cell_type": "markdown",
   "metadata": {},
   "source": [
    "### Handling the Imbalanced Data Sets\n",
    "Notice that we have 4,582 clean JPEG Files and 400 JPEG Files with malware. So, our data set is imbalanced as we have more than 10 times the number of clean JPEG files as compared to the number of JPEG files with malware. Imbalanced data sets will cause algorithms like Decision Tree (and most other algorithms) to not be able function properly.\n",
    "\n",
    "To resolve the problem of the imbalanced data set, we over-sample the data set. Oversampling means that we try to increase the number of data points in the class which has less number of data points to have a similar number of data points as the other set with more data points. For oversampling, we will use **SMOTE (Synthetic Minority Over-sampling Technique)** algorithm.\n",
    "\n",
    "Notice that after applying SMOTE, we have 9,164 data points in our data set and there are 4,582 data points for clean JPEG Files and 4,582 data points for JPEG Files with malware."
   ]
  },
  {
   "cell_type": "code",
   "execution_count": 20,
   "metadata": {},
   "outputs": [],
   "source": [
    "# For SMOTE\n",
    "import imblearn as ib\n",
    "\n",
    "# Transform the dataset\n",
    "oversample = ib.over_sampling.SMOTE(random_state = 42)\n",
    "X, y = oversample.fit_resample(X, y)"
   ]
  },
  {
   "cell_type": "code",
   "execution_count": 21,
   "metadata": {},
   "outputs": [
    {
     "data": {
      "text/plain": [
       "(9164, 4800)"
      ]
     },
     "execution_count": 21,
     "metadata": {},
     "output_type": "execute_result"
    }
   ],
   "source": [
    "X.shape"
   ]
  },
  {
   "cell_type": "code",
   "execution_count": 22,
   "metadata": {},
   "outputs": [
    {
     "data": {
      "text/plain": [
       "0    4582\n",
       "1    4582\n",
       "Name: FileType, dtype: int64"
      ]
     },
     "execution_count": 22,
     "metadata": {},
     "output_type": "execute_result"
    }
   ],
   "source": [
    "y.value_counts()"
   ]
  },
  {
   "cell_type": "markdown",
   "metadata": {},
   "source": [
    "### Forming the Decision Tree Model\n",
    "Now that we have the data in the form we desire, we form the Model using the Decision Tree algorithm."
   ]
  },
  {
   "cell_type": "code",
   "execution_count": 23,
   "metadata": {},
   "outputs": [
    {
     "data": {
      "text/plain": [
       "DecisionTreeClassifier(random_state=42)"
      ]
     },
     "execution_count": 23,
     "metadata": {},
     "output_type": "execute_result"
    }
   ],
   "source": [
    "from sklearn.tree import DecisionTreeClassifier\n",
    "\n",
    "modelDT = DecisionTreeClassifier(random_state = 42)\n",
    "modelDT.fit(X, y)"
   ]
  },
  {
   "cell_type": "markdown",
   "metadata": {},
   "source": [
    "**Now that the model is ready, we evaluate the model on the Training Data.**"
   ]
  },
  {
   "cell_type": "code",
   "execution_count": 24,
   "metadata": {},
   "outputs": [
    {
     "name": "stdout",
     "output_type": "stream",
     "text": [
      "\n",
      "\n",
      "Confusion Classification Report\n",
      "\n",
      "              precision    recall  f1-score   support\n",
      "\n",
      "           0       1.00      1.00      1.00      4582\n",
      "           1       1.00      1.00      1.00      4582\n",
      "\n",
      "    accuracy                           1.00      9164\n",
      "   macro avg       1.00      1.00      1.00      9164\n",
      "weighted avg       1.00      1.00      1.00      9164\n",
      "\n",
      "\n",
      "\n",
      "Accuracy: 99.96726%\n"
     ]
    },
    {
     "data": {
      "image/png": "[encoded data removed]",
      "text/plain": [
       "<Figure size 432x288 with 2 Axes>"
      ]
     },
     "metadata": {
      "needs_background": "light"
     },
     "output_type": "display_data"
    }
   ],
   "source": [
    "from sklearn import metrics\n",
    "import matplotlib.pyplot as plt     \n",
    "import seaborn as sns\n",
    "\n",
    "y_pred = modelDT.predict(X)\n",
    "\n",
    "cm = metrics.confusion_matrix(y, y_pred)\n",
    "\n",
    "ax = plt.subplot()\n",
    "sns.heatmap(cm, annot = True, fmt = 'g', ax = ax);\n",
    "\n",
    "# labels, title and ticks\n",
    "ax.set_xlabel('Predicted labels');\n",
    "ax.set_ylabel('True labels'); \n",
    "ax.set_title('Confusion Matrix'); \n",
    "ax.xaxis.set_ticklabels(['Benign', 'Malware']); \n",
    "ax.yaxis.set_ticklabels(['Benign', 'Malware']);\n",
    "\n",
    "print(\"\\n\\nConfusion Classification Report\\n\")\n",
    "print(metrics.classification_report(y, y_pred))\n",
    "\n",
    "print(\"\\n\\nAccuracy: %5.5f%s\" % (metrics.accuracy_score(y, y_pred) * 100, \"%\"))"
   ]
  },
  {
   "cell_type": "markdown",
   "metadata": {},
   "source": [
    "### Making predictions for test data\n",
    "Now that the models are ready, we test the models using the test data.\n",
    "\n",
    "First the Decision Tree Model is tested.\n",
    "\n",
    "To test the models with the test data, we need to conduct the following steps:\n",
    "1. Read the Tags from the clean JPEG Files and form the data frame of tags and mark these rows as Benign files.\n",
    "2. Read the Tags from the JPEG Files containing malware and form the data frame of tags and mark these rows as JPEG files containing malware.\n",
    "3. Combine the two dataframes created in steps 1 and 2 into a single data frame (We could have tested the two data frames created in steps 1 and 2 separately as well).\n",
    "4. Remove the CHR(0) from the tags.\n",
    "5. Then we form the TF-IDF using the TF-IDF converter already created before (It is important to note that we should use the same TF-IDF converter as the number of features in the TF-IDF should be the same as that was used to create the models).\n",
    "6. Once the TF-IDF is ready, we apply Principle Component Analysis to reduce the number of features.\n",
    "7. Once all of the above is over, we can use the model to make the predictions."
   ]
  },
  {
   "cell_type": "code",
   "execution_count": 25,
   "metadata": {},
   "outputs": [
    {
     "name": "stdout",
     "output_type": "stream",
     "text": [
      "\n",
      "BENIGN FILES\n",
      "------------\n",
      "Valid JPEG Files = 117\n",
      "Invalid Image Files = 0\n",
      "JPEG Files without Tags = 175\n"
     ]
    },
    {
     "name": "stderr",
     "output_type": "stream",
     "text": [
      "Extracting Clean Files Features for Test Data: 100%|██████████| 117/117 [00:00<00:00, 1658.06it/s]\n"
     ]
    },
    {
     "name": "stdout",
     "output_type": "stream",
     "text": [
      "\n",
      "MALWARE FILES\n",
      "-------------\n",
      "Valid JPEG Files = 22\n",
      "Invalid Image Files = 0\n",
      "JPEG Files without Tags = 0\n"
     ]
    },
    {
     "name": "stderr",
     "output_type": "stream",
     "text": [
      "Extracting Clean Files Features for Test Data: 100%|██████████| 22/22 [00:00<00:00, 1751.74it/s]"
     ]
    },
    {
     "name": "stdout",
     "output_type": "stream",
     "text": [
      "0    117\n",
      "1     22\n",
      "Name: FileType, dtype: int64\n"
     ]
    },
    {
     "name": "stderr",
     "output_type": "stream",
     "text": [
      "\n"
     ]
    },
    {
     "name": "stdout",
     "output_type": "stream",
     "text": [
      "\n",
      "\n",
      "Confusion Classification Report\n",
      "\n",
      "              precision    recall  f1-score   support\n",
      "\n",
      "           0       0.99      0.91      0.95       117\n",
      "           1       0.68      0.95      0.79        22\n",
      "\n",
      "    accuracy                           0.92       139\n",
      "   macro avg       0.83      0.93      0.87       139\n",
      "weighted avg       0.94      0.92      0.93       139\n",
      "\n",
      "\n",
      "\n",
      "Accuracy: 92.08633%\n"
     ]
    },
    {
     "data": {
      "image/png": "[encoded data removed]",
      "text/plain": [
       "<Figure size 432x288 with 2 Axes>"
      ]
     },
     "metadata": {
      "needs_background": "light"
     },
     "output_type": "display_data"
    }
   ],
   "source": [
    "# Read the data for the Benign Files\n",
    "testCleanFeatures, numValidFiles, numInvalidFiles, numFilesWithoutTags = extractTagsFromADirectory(\"./Data/ValidationSet-Clean/*.j*\")\n",
    "print(\"\\nBENIGN FILES\\n------------\\nValid JPEG Files = %d\\nInvalid Image Files = %d\\nJPEG Files without Tags = %d\" % (numValidFiles, numInvalidFiles, numFilesWithoutTags))\n",
    "\n",
    "# Form the data frame\n",
    "testCleanDF = fillDataInDataFrame(testCleanFeatures, 'Extracting Clean Files Features for Test Data', BENIGN_FILE)\n",
    "\n",
    "# Read the data for the file with Malware\n",
    "testMalwareFeatures, numValidFiles, numInvalidFiles, numFilesWithoutTags = extractTagsFromADirectory(\"./Data/ValidationSet-Malicious/*\")\n",
    "print(\"\\nMALWARE FILES\\n-------------\\nValid JPEG Files = %d\\nInvalid Image Files = %d\\nJPEG Files without Tags = %d\" % (numValidFiles, numInvalidFiles, numFilesWithoutTags))\n",
    "\n",
    "# Form the data frame\n",
    "testMalwareDF = fillDataInDataFrame(testMalwareFeatures, 'Extracting Clean Files Features for Test Data', FILE_WITH_MALWARE)\n",
    "\n",
    "# Combine the 2 data frames formed above\n",
    "testDF = pd.concat([testCleanDF, testMalwareDF], ignore_index=True)\n",
    "testDF['FileType'] = pd.to_numeric(testDF['FileType'], downcast = 'integer')\n",
    "\n",
    "# Create data for TFID\n",
    "testTFIDDF = testDF[[TAG_STRING_COLUMN_NAME, FILE_TYPE_COLUMN_NAME]].copy()\n",
    "\n",
    "# Clean the data\n",
    "testTFIDClean = pd.DataFrame()\n",
    "for i in testTFIDDF.index:\n",
    "    testTFIDClean.loc[i, TAG_STRING_COLUMN_NAME] = testTFIDDF.iloc[i, 0].replace(chr(0), '')\n",
    "    testTFIDClean.loc[i, FILE_TYPE_COLUMN_NAME] = testTFIDDF.iloc[i, 1]\n",
    "    \n",
    "# Drop NULL Values\n",
    "testTFIDClean = testTFIDClean.dropna()\n",
    "testTFIDClean[FILE_TYPE_COLUMN_NAME]= pd.to_numeric(testTFIDClean[FILE_TYPE_COLUMN_NAME], downcast='integer')\n",
    "print(testTFIDClean[FILE_TYPE_COLUMN_NAME].value_counts())\n",
    "\n",
    "# Create the TFID\n",
    "X = tfidfconverter.transform(testTFIDClean.TagString).toarray()\n",
    "y = testTFIDClean.FileType\n",
    "\n",
    "# Apply PCA\n",
    "X = pca.transform(X)\n",
    "\n",
    "# Make the prediction as per the Decision Tree Model and check the result\n",
    "y_pred = modelDT.predict(X)\n",
    "\n",
    "cm = metrics.confusion_matrix(y, y_pred)\n",
    "\n",
    "ax = plt.subplot()\n",
    "sns.heatmap(cm, annot = True, fmt = 'g', ax = ax);\n",
    "\n",
    "# labels, title and ticks\n",
    "ax.set_xlabel('Predicted labels');\n",
    "ax.set_ylabel('True labels'); \n",
    "ax.set_title('Confusion Matrix'); \n",
    "ax.xaxis.set_ticklabels(['Benign', 'Malware']); \n",
    "ax.yaxis.set_ticklabels(['Benign', 'Malware']);\n",
    "\n",
    "print(\"\\n\\nConfusion Classification Report\\n\")\n",
    "print(metrics.classification_report(y, y_pred))\n",
    "\n",
    "print(\"\\n\\nAccuracy: %5.5f%s\" % (metrics.accuracy_score(y, y_pred) * 100, \"%\"))"
   ]
  }
 ],
 "metadata": {
  "kernelspec": {
   "display_name": "Python 3 (ipykernel)",
   "language": "python",
   "name": "python3"
  },
  "language_info": {
   "codemirror_mode": {
    "name": "ipython",
    "version": 3
   },
   "file_extension": ".py",
   "mimetype": "text/x-python",
   "name": "python",
   "nbconvert_exporter": "python",
   "pygments_lexer": "ipython3",
   "version": "3.9.12"
  }
 },
 "nbformat": 4,
 "nbformat_minor": 4
}
