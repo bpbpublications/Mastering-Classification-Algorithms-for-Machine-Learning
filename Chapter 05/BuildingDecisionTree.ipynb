{
 "cells": [
  {
   "cell_type": "markdown",
   "id": "674ba881",
   "metadata": {
    "id": "aUUu9l_JfJ92",
    "papermill": {
     "duration": 0.014898,
     "end_time": "2022-09-09T11:20:45.490060",
     "exception": false,
     "start_time": "2022-09-09T11:20:45.475162",
     "status": "completed"
    },
    "tags": []
   },
   "source": [
    "# Building Decision Tree"
   ]
  },
  {
   "cell_type": "code",
   "execution_count": 1,
   "id": "6773a738",
   "metadata": {
    "papermill": {
     "duration": 0.030948,
     "end_time": "2022-09-09T11:20:45.560990",
     "exception": false,
     "start_time": "2022-09-09T11:20:45.530042",
     "status": "completed"
    },
    "tags": []
   },
   "outputs": [],
   "source": [
    "import warnings\n",
    "warnings.filterwarnings('ignore')"
   ]
  },
  {
   "cell_type": "code",
   "execution_count": 2,
   "id": "47c997ba",
   "metadata": {
    "papermill": {
     "duration": 14.209573,
     "end_time": "2022-09-09T11:20:59.784217",
     "exception": false,
     "start_time": "2022-09-09T11:20:45.574644",
     "status": "completed"
    },
    "tags": []
   },
   "outputs": [
    {
     "name": "stdout",
     "output_type": "stream",
     "text": [
      "Requirement already satisfied: pydot in /Users/parthamajumdar/opt/anaconda3/lib/python3.9/site-packages (1.4.2)\n",
      "Requirement already satisfied: pyparsing>=2.1.4 in /Users/parthamajumdar/opt/anaconda3/lib/python3.9/site-packages (from pydot) (3.0.4)\n"
     ]
    }
   ],
   "source": [
    "!pip install pydot"
   ]
  },
  {
   "cell_type": "code",
   "execution_count": 3,
   "id": "819b330f",
   "metadata": {
    "papermill": {
     "duration": 15.81299,
     "end_time": "2022-09-09T11:21:15.611401",
     "exception": false,
     "start_time": "2022-09-09T11:20:59.798411",
     "status": "completed"
    },
    "tags": []
   },
   "outputs": [
    {
     "name": "stdout",
     "output_type": "stream",
     "text": [
      "Requirement already satisfied: pydotplus in /Users/parthamajumdar/opt/anaconda3/lib/python3.9/site-packages (2.0.2)\n",
      "Requirement already satisfied: pyparsing>=2.0.1 in /Users/parthamajumdar/opt/anaconda3/lib/python3.9/site-packages (from pydotplus) (3.0.4)\n"
     ]
    }
   ],
   "source": [
    "!pip install pydotplus"
   ]
  },
  {
   "cell_type": "code",
   "execution_count": 4,
   "id": "324f0f69",
   "metadata": {
    "papermill": {
     "duration": 82.645374,
     "end_time": "2022-09-09T11:22:38.272115",
     "exception": false,
     "start_time": "2022-09-09T11:21:15.626741",
     "status": "completed"
    },
    "tags": []
   },
   "outputs": [
    {
     "name": "stdout",
     "output_type": "stream",
     "text": [
      "Requirement already satisfied: graphviz in /Users/parthamajumdar/opt/anaconda3/lib/python3.9/site-packages (0.20.1)\n",
      "Collecting package metadata (current_repodata.json): done\n",
      "Solving environment: done\n",
      "\n",
      "# All requested packages already installed.\n",
      "\n"
     ]
    }
   ],
   "source": [
    "!pip install graphviz\n",
    "!conda install -y graphviz"
   ]
  },
  {
   "cell_type": "markdown",
   "id": "8a119d20",
   "metadata": {
    "id": "OnFlaGNVFJI3",
    "papermill": {
     "duration": 0.036725,
     "end_time": "2022-09-09T11:22:38.343729",
     "exception": false,
     "start_time": "2022-09-09T11:22:38.307004",
     "status": "completed"
    },
    "tags": []
   },
   "source": [
    "## **Decision Tree** Algorithm"
   ]
  },
  {
   "cell_type": "markdown",
   "id": "9232ea79",
   "metadata": {
    "id": "Pyj3MM1li34l",
    "papermill": {
     "duration": 0.038053,
     "end_time": "2022-09-09T11:22:38.420085",
     "exception": false,
     "start_time": "2022-09-09T11:22:38.382032",
     "status": "completed"
    },
    "tags": []
   },
   "source": [
    "Let us understand the Decision Tree algorithm through an example. We will take an arbitrary example with 2 independent variables.\n",
    "\n",
    "Suppose that we have 10 data points in 2 variables as given below. The third attribute is the label which can be 0 or 1.\n",
    "\n",
    "(1,4,0),(7,6,0),(1,6,0),(1,2,1),(5,2,1),(7,2,1),(5,4,0),(2,4,0),(1,7,1),(2,7,1)\n",
    "\n",
    "We can treat these data points as 10 records having 2 features - x1, x2. We create a dataframe of these point and see what this looks like."
   ]
  },
  {
   "cell_type": "code",
   "execution_count": 5,
   "id": "41840608",
   "metadata": {
    "papermill": {
     "duration": 0.08161,
     "end_time": "2022-09-09T11:22:38.540171",
     "exception": false,
     "start_time": "2022-09-09T11:22:38.458561",
     "status": "completed"
    },
    "tags": []
   },
   "outputs": [
    {
     "data": {
      "text/html": [
       "<div>\n",
       "<style scoped>\n",
       "    .dataframe tbody tr th:only-of-type {\n",
       "        vertical-align: middle;\n",
       "    }\n",
       "\n",
       "    .dataframe tbody tr th {\n",
       "        vertical-align: top;\n",
       "    }\n",
       "\n",
       "    .dataframe thead th {\n",
       "        text-align: right;\n",
       "    }\n",
       "</style>\n",
       "<table border=\"1\" class=\"dataframe\">\n",
       "  <thead>\n",
       "    <tr style=\"text-align: right;\">\n",
       "      <th></th>\n",
       "      <th>x1</th>\n",
       "      <th>x2</th>\n",
       "      <th>y</th>\n",
       "    </tr>\n",
       "  </thead>\n",
       "  <tbody>\n",
       "    <tr>\n",
       "      <th>0</th>\n",
       "      <td>1</td>\n",
       "      <td>4</td>\n",
       "      <td>0</td>\n",
       "    </tr>\n",
       "    <tr>\n",
       "      <th>1</th>\n",
       "      <td>7</td>\n",
       "      <td>6</td>\n",
       "      <td>0</td>\n",
       "    </tr>\n",
       "    <tr>\n",
       "      <th>2</th>\n",
       "      <td>1</td>\n",
       "      <td>6</td>\n",
       "      <td>0</td>\n",
       "    </tr>\n",
       "    <tr>\n",
       "      <th>3</th>\n",
       "      <td>1</td>\n",
       "      <td>2</td>\n",
       "      <td>1</td>\n",
       "    </tr>\n",
       "    <tr>\n",
       "      <th>4</th>\n",
       "      <td>5</td>\n",
       "      <td>2</td>\n",
       "      <td>1</td>\n",
       "    </tr>\n",
       "    <tr>\n",
       "      <th>5</th>\n",
       "      <td>7</td>\n",
       "      <td>2</td>\n",
       "      <td>1</td>\n",
       "    </tr>\n",
       "    <tr>\n",
       "      <th>6</th>\n",
       "      <td>5</td>\n",
       "      <td>4</td>\n",
       "      <td>0</td>\n",
       "    </tr>\n",
       "    <tr>\n",
       "      <th>7</th>\n",
       "      <td>2</td>\n",
       "      <td>4</td>\n",
       "      <td>0</td>\n",
       "    </tr>\n",
       "    <tr>\n",
       "      <th>8</th>\n",
       "      <td>1</td>\n",
       "      <td>7</td>\n",
       "      <td>1</td>\n",
       "    </tr>\n",
       "    <tr>\n",
       "      <th>9</th>\n",
       "      <td>2</td>\n",
       "      <td>7</td>\n",
       "      <td>1</td>\n",
       "    </tr>\n",
       "  </tbody>\n",
       "</table>\n",
       "</div>"
      ],
      "text/plain": [
       "   x1  x2  y\n",
       "0   1   4  0\n",
       "1   7   6  0\n",
       "2   1   6  0\n",
       "3   1   2  1\n",
       "4   5   2  1\n",
       "5   7   2  1\n",
       "6   5   4  0\n",
       "7   2   4  0\n",
       "8   1   7  1\n",
       "9   2   7  1"
      ]
     },
     "execution_count": 5,
     "metadata": {},
     "output_type": "execute_result"
    }
   ],
   "source": [
    "import pandas as pd\n",
    "\n",
    "df = pd.DataFrame([(1,4,0),(7,6,0),(1,6,0),(1,2,1),(5,2,1),(7,2,1),(5,4,0),(2,4,0),(1,7,1),(2,7,1)], \n",
    "                  columns = ['x1', 'x2', 'y'])\n",
    "df"
   ]
  },
  {
   "cell_type": "markdown",
   "id": "74d98a64",
   "metadata": {
    "papermill": {
     "duration": 0.035009,
     "end_time": "2022-09-09T11:22:38.610400",
     "exception": false,
     "start_time": "2022-09-09T11:22:38.575391",
     "status": "completed"
    },
    "tags": []
   },
   "source": [
    "First we plot our data to be able to visualize it."
   ]
  },
  {
   "cell_type": "code",
   "execution_count": 6,
   "id": "b4a85456",
   "metadata": {
    "papermill": {
     "duration": 0.303926,
     "end_time": "2022-09-09T11:22:38.951474",
     "exception": false,
     "start_time": "2022-09-09T11:22:38.647548",
     "status": "completed"
    },
    "tags": []
   },
   "outputs": [
    {
     "data": {
      "image/png": "[encoded data removed]",
      "text/plain": [
       "<Figure size 432x288 with 1 Axes>"
      ]
     },
     "metadata": {
      "needs_background": "light"
     },
     "output_type": "display_data"
    }
   ],
   "source": [
    "import matplotlib.pyplot as plt\n",
    "%matplotlib inline\n",
    "\n",
    "plt.plot(df['x1'][df['y']==0], df['x2'][df['y']==0], 'ro', df['x1'][df['y']==1], df['x2'][df['y']==1], 'g^')\n",
    "plt.xlabel(\"x1\")\n",
    "plt.ylabel(\"x2\")\n",
    "plt.show()"
   ]
  },
  {
   "cell_type": "markdown",
   "id": "e840f5db",
   "metadata": {
    "papermill": {
     "duration": 0.035848,
     "end_time": "2022-09-09T11:22:39.023093",
     "exception": false,
     "start_time": "2022-09-09T11:22:38.987245",
     "status": "completed"
    },
    "tags": []
   },
   "source": [
    "To make the decision tree, we need to try various points for the features x1 and x2 where we can split the decision. So, we compute the possible values of x1 and x2 where there could be a split."
   ]
  },
  {
   "cell_type": "code",
   "execution_count": 7,
   "id": "5cc96489",
   "metadata": {
    "papermill": {
     "duration": 0.046824,
     "end_time": "2022-09-09T11:22:39.104474",
     "exception": false,
     "start_time": "2022-09-09T11:22:39.057650",
     "status": "completed"
    },
    "tags": []
   },
   "outputs": [
    {
     "name": "stdout",
     "output_type": "stream",
     "text": [
      "[1.  1.5 2.  2.5 3.  3.5 4.  4.5 5.  5.5 6.  6.5 7.  7.5]\n",
      "\n",
      "\n",
      "[2.  2.5 3.  3.5 4.  4.5 5.  5.5 6.  6.5 7.  7.5]\n"
     ]
    }
   ],
   "source": [
    "import numpy as np\n",
    "\n",
    "# Split thresholds\n",
    "x1_ = np.arange(df['x1'].min(), df['x1'].max()+1, 0.5)\n",
    "x2_ = np.arange(df['x2'].min(), df['x2'].max()+1, 0.5)\n",
    "\n",
    "print(x1_)\n",
    "print('\\n')\n",
    "print(x2_)"
   ]
  },
  {
   "cell_type": "markdown",
   "id": "5726e4ca",
   "metadata": {
    "papermill": {
     "duration": 0.035199,
     "end_time": "2022-09-09T11:22:39.175517",
     "exception": false,
     "start_time": "2022-09-09T11:22:39.140318",
     "status": "completed"
    },
    "tags": []
   },
   "source": [
    "To build our Decision Tree, we need to pick one of the 2 independent variables (in our example). This will become our **Root Node**. The question is how do we pick a node? We can use the **CART (Classification and Regression Tree)** algorithm and use the measure called **Gini Index**.\n",
    "\n",
    "### Building a Decision Tree using the CART Algorithm based on Gini Index"
   ]
  },
  {
   "cell_type": "markdown",
   "id": "9b62714a",
   "metadata": {
    "papermill": {
     "duration": 0.036084,
     "end_time": "2022-09-09T11:22:39.247381",
     "exception": false,
     "start_time": "2022-09-09T11:22:39.211297",
     "status": "completed"
    },
    "tags": []
   },
   "source": [
    "**Gini Index is a measure of impurity or purity used while creating a decision tree using the *CART (Classification and Regression Tree)* algorithm.**\n",
    "\n",
    "**GiniIndex(t) = 1 - Σ(P(i|t)^2), where i = 1 to j. Here, j is the number of classes in the dataset.**\n",
    "\n",
    "In our example, we have j = 2 as we have 2 classes represented by 0 and 1.\n",
    "\n",
    "**GiniIndex(full dataset) = 1 - (P(0)^2 + P(1)^2)**\n",
    "\n",
    "Now, P(0) = 5/10 and P(1) = 5/10\n",
    "\n",
    "So, *GiniIndex(full dataset) = 1 - ((5/10)^2 + (5/10)^2) = 1 - (0.25 + 0.25) = 1 - 0.5 = 0.5*\n",
    "\n",
    "Now that we understand how to compute the Gini Index, we write a function to compute the Gini Index."
   ]
  },
  {
   "cell_type": "code",
   "execution_count": 8,
   "id": "df97c831",
   "metadata": {
    "papermill": {
     "duration": 0.047727,
     "end_time": "2022-09-09T11:22:39.331371",
     "exception": false,
     "start_time": "2022-09-09T11:22:39.283644",
     "status": "completed"
    },
    "tags": []
   },
   "outputs": [],
   "source": [
    "# Function to compute Gini Index\n",
    "def giniIndex(dataframe, classes = [0, 1]):\n",
    "    m = len(dataframe)\n",
    "    if m == 0:\n",
    "        return 1\n",
    "    \n",
    "    mi = []\n",
    "    for cls in classes:\n",
    "        mi.append(sum(dataframe.iloc[:,-1] == cls))\n",
    "        \n",
    "    gini = 1 - sum((np.array(mi) / m)**2)\n",
    "    \n",
    "    return gini"
   ]
  },
  {
   "cell_type": "markdown",
   "id": "97626e0d",
   "metadata": {
    "papermill": {
     "duration": 0.035538,
     "end_time": "2022-09-09T11:22:39.401975",
     "exception": false,
     "start_time": "2022-09-09T11:22:39.366437",
     "status": "completed"
    },
    "tags": []
   },
   "source": [
    "Let us use  our function to compute the Gini Index for the complete dataset."
   ]
  },
  {
   "cell_type": "code",
   "execution_count": 9,
   "id": "9f1dba55",
   "metadata": {
    "papermill": {
     "duration": 0.047325,
     "end_time": "2022-09-09T11:22:39.484622",
     "exception": false,
     "start_time": "2022-09-09T11:22:39.437297",
     "status": "completed"
    },
    "tags": []
   },
   "outputs": [
    {
     "data": {
      "text/plain": [
       "0.5"
      ]
     },
     "execution_count": 9,
     "metadata": {},
     "output_type": "execute_result"
    }
   ],
   "source": [
    "giniIndex(df)"
   ]
  },
  {
   "cell_type": "markdown",
   "id": "58522f81",
   "metadata": {
    "papermill": {
     "duration": 0.034236,
     "end_time": "2022-09-09T11:22:39.554571",
     "exception": false,
     "start_time": "2022-09-09T11:22:39.520335",
     "status": "completed"
    },
    "tags": []
   },
   "source": [
    "We need to compute the Gini Index for all the split points that we have established (The split points to evaluate are stored in x1_ and x2_).\n",
    "\n",
    "### The CART Training Algorithm\n",
    "\n",
    "We use the Classification  And  Regression  Tree  (CART)  algorithm  to  train Decision Trees (also called “growing” trees). CART constructs binary trees using the feature and threshold that yield the largest information gain or minimum gini-impurity at each node.\n",
    "\n",
    "*Cart Cost Function For Classification*\n",
    "\n",
    "$J_{k,t_k} =$ $\\frac{m_{left}}{m} G_{left} + \\frac{m_{right}}{m} G_{right}$\n",
    "\n",
    "\\begin{equation*}\n",
    "Where\\begin{cases}\n",
    "         G_{left/right} \\hspace{0.25cm} \\text{measures the  impurity  of  the  left/right  subset}, \\\\\n",
    "         m_{left/right} \\hspace{0.25cm} \\text{is  the  number  of  instances  in  the  left/right  subset}  \\\\\n",
    "     \\end{cases}\n",
    "\\end{equation*}\n",
    "\n",
    "The equation shows that the algorithm first the splits the training subsets using a single feature $k$ and a limiting value or condition $t_k$. The algorithm works as follows:\n",
    "\n",
    "- It creates different pairs of $(k,t_k)$. It searches for the pair that produces the purest subset (i.e.minimum gini-impurity) weighted by their size.\n",
    "\n",
    "Once it splits the training set in  two, it splits the subsets using the same algorithm.\n",
    "\n",
    "Let us create a function to calculate the Cost Function. We will call it the Loss Function."
   ]
  },
  {
   "cell_type": "code",
   "execution_count": 10,
   "id": "cc3bd3eb",
   "metadata": {
    "papermill": {
     "duration": 0.047472,
     "end_time": "2022-09-09T11:22:39.637079",
     "exception": false,
     "start_time": "2022-09-09T11:22:39.589607",
     "status": "completed"
    },
    "tags": []
   },
   "outputs": [],
   "source": [
    "# Loss function \n",
    "def lossFunction(dataf, feature, threshold):\n",
    "    m = len(dataf)\n",
    "    data_l = dataf[dataf[feature] <= threshold]\n",
    "    data_r = dataf[dataf[feature] > threshold]\n",
    "    ml = len(data_l)\n",
    "    mr = len(data_r)\n",
    "    loss = (ml * giniIndex(data_l) + mr * giniIndex(data_r)) / m\n",
    "    \n",
    "    return loss, data_l, data_r"
   ]
  },
  {
   "cell_type": "code",
   "execution_count": 11,
   "id": "f7dafe9e",
   "metadata": {
    "papermill": {
     "duration": 0.053917,
     "end_time": "2022-09-09T11:22:39.726437",
     "exception": false,
     "start_time": "2022-09-09T11:22:39.672520",
     "status": "completed"
    },
    "tags": []
   },
   "outputs": [
    {
     "data": {
      "text/html": [
       "<div>\n",
       "<style scoped>\n",
       "    .dataframe tbody tr th:only-of-type {\n",
       "        vertical-align: middle;\n",
       "    }\n",
       "\n",
       "    .dataframe tbody tr th {\n",
       "        vertical-align: top;\n",
       "    }\n",
       "\n",
       "    .dataframe thead th {\n",
       "        text-align: right;\n",
       "    }\n",
       "</style>\n",
       "<table border=\"1\" class=\"dataframe\">\n",
       "  <thead>\n",
       "    <tr style=\"text-align: right;\">\n",
       "      <th></th>\n",
       "      <th>x1</th>\n",
       "      <th>x2</th>\n",
       "      <th>y</th>\n",
       "    </tr>\n",
       "  </thead>\n",
       "  <tbody>\n",
       "    <tr>\n",
       "      <th>0</th>\n",
       "      <td>1</td>\n",
       "      <td>4</td>\n",
       "      <td>0</td>\n",
       "    </tr>\n",
       "    <tr>\n",
       "      <th>2</th>\n",
       "      <td>1</td>\n",
       "      <td>6</td>\n",
       "      <td>0</td>\n",
       "    </tr>\n",
       "    <tr>\n",
       "      <th>3</th>\n",
       "      <td>1</td>\n",
       "      <td>2</td>\n",
       "      <td>1</td>\n",
       "    </tr>\n",
       "    <tr>\n",
       "      <th>8</th>\n",
       "      <td>1</td>\n",
       "      <td>7</td>\n",
       "      <td>1</td>\n",
       "    </tr>\n",
       "  </tbody>\n",
       "</table>\n",
       "</div>"
      ],
      "text/plain": [
       "   x1  x2  y\n",
       "0   1   4  0\n",
       "2   1   6  0\n",
       "3   1   2  1\n",
       "8   1   7  1"
      ]
     },
     "execution_count": 11,
     "metadata": {},
     "output_type": "execute_result"
    }
   ],
   "source": [
    "df[df['x1'] <= 1]"
   ]
  },
  {
   "cell_type": "markdown",
   "id": "f5c86740",
   "metadata": {
    "papermill": {
     "duration": 0.034968,
     "end_time": "2022-09-09T11:22:39.796603",
     "exception": false,
     "start_time": "2022-09-09T11:22:39.761635",
     "status": "completed"
    },
    "tags": []
   },
   "source": [
    "So, m<sub>left</sub> = 4."
   ]
  },
  {
   "cell_type": "code",
   "execution_count": 12,
   "id": "e76b4774",
   "metadata": {
    "papermill": {
     "duration": 0.051853,
     "end_time": "2022-09-09T11:22:39.884681",
     "exception": false,
     "start_time": "2022-09-09T11:22:39.832828",
     "status": "completed"
    },
    "tags": []
   },
   "outputs": [
    {
     "data": {
      "text/html": [
       "<div>\n",
       "<style scoped>\n",
       "    .dataframe tbody tr th:only-of-type {\n",
       "        vertical-align: middle;\n",
       "    }\n",
       "\n",
       "    .dataframe tbody tr th {\n",
       "        vertical-align: top;\n",
       "    }\n",
       "\n",
       "    .dataframe thead th {\n",
       "        text-align: right;\n",
       "    }\n",
       "</style>\n",
       "<table border=\"1\" class=\"dataframe\">\n",
       "  <thead>\n",
       "    <tr style=\"text-align: right;\">\n",
       "      <th></th>\n",
       "      <th>x1</th>\n",
       "      <th>x2</th>\n",
       "      <th>y</th>\n",
       "    </tr>\n",
       "  </thead>\n",
       "  <tbody>\n",
       "    <tr>\n",
       "      <th>1</th>\n",
       "      <td>7</td>\n",
       "      <td>6</td>\n",
       "      <td>0</td>\n",
       "    </tr>\n",
       "    <tr>\n",
       "      <th>4</th>\n",
       "      <td>5</td>\n",
       "      <td>2</td>\n",
       "      <td>1</td>\n",
       "    </tr>\n",
       "    <tr>\n",
       "      <th>5</th>\n",
       "      <td>7</td>\n",
       "      <td>2</td>\n",
       "      <td>1</td>\n",
       "    </tr>\n",
       "    <tr>\n",
       "      <th>6</th>\n",
       "      <td>5</td>\n",
       "      <td>4</td>\n",
       "      <td>0</td>\n",
       "    </tr>\n",
       "    <tr>\n",
       "      <th>7</th>\n",
       "      <td>2</td>\n",
       "      <td>4</td>\n",
       "      <td>0</td>\n",
       "    </tr>\n",
       "    <tr>\n",
       "      <th>9</th>\n",
       "      <td>2</td>\n",
       "      <td>7</td>\n",
       "      <td>1</td>\n",
       "    </tr>\n",
       "  </tbody>\n",
       "</table>\n",
       "</div>"
      ],
      "text/plain": [
       "   x1  x2  y\n",
       "1   7   6  0\n",
       "4   5   2  1\n",
       "5   7   2  1\n",
       "6   5   4  0\n",
       "7   2   4  0\n",
       "9   2   7  1"
      ]
     },
     "execution_count": 12,
     "metadata": {},
     "output_type": "execute_result"
    }
   ],
   "source": [
    "df[df['x1'] > 1]"
   ]
  },
  {
   "cell_type": "markdown",
   "id": "2c0fc234",
   "metadata": {
    "papermill": {
     "duration": 0.035538,
     "end_time": "2022-09-09T11:22:39.955474",
     "exception": false,
     "start_time": "2022-09-09T11:22:39.919936",
     "status": "completed"
    },
    "tags": []
   },
   "source": [
    "So, m<sub>right</sub> = 6."
   ]
  },
  {
   "cell_type": "code",
   "execution_count": 13,
   "id": "9d42a6b6",
   "metadata": {
    "papermill": {
     "duration": 0.052364,
     "end_time": "2022-09-09T11:22:40.043799",
     "exception": false,
     "start_time": "2022-09-09T11:22:39.991435",
     "status": "completed"
    },
    "tags": []
   },
   "outputs": [
    {
     "name": "stdout",
     "output_type": "stream",
     "text": [
      "Gini Index for x<=1 =  0.5\n",
      "Gini Index for x>1 =  0.5\n"
     ]
    }
   ],
   "source": [
    "gmLeft = giniIndex(df[df['x1'] <= 1])\n",
    "gmRight = giniIndex(df[df['x1'] > 1])\n",
    "print('Gini Index for x<=1 = ', gmLeft)\n",
    "print('Gini Index for x>1 = ', gmRight)"
   ]
  },
  {
   "cell_type": "markdown",
   "id": "3e4947e5",
   "metadata": {
    "papermill": {
     "duration": 0.035812,
     "end_time": "2022-09-09T11:22:40.115665",
     "exception": false,
     "start_time": "2022-09-09T11:22:40.079853",
     "status": "completed"
    },
    "tags": []
   },
   "source": [
    "So, Loss is calculated as follows:\n",
    "\n",
    "Loss = ((m<sub>left</sub> * Gini(left) + (m<sub>right</sub> * Gini(right)) / m = (4 * 0.5 + 6 * 0.5) / 10 = (2 + 3) / 10 = 5 / 10 = 0.5\n",
    "\n",
    "Let us test it with our function."
   ]
  },
  {
   "cell_type": "code",
   "execution_count": 14,
   "id": "12e39924",
   "metadata": {
    "papermill": {
     "duration": 0.054915,
     "end_time": "2022-09-09T11:22:40.205798",
     "exception": false,
     "start_time": "2022-09-09T11:22:40.150883",
     "status": "completed"
    },
    "tags": []
   },
   "outputs": [
    {
     "data": {
      "text/plain": [
       "(0.5,\n",
       "    x1  x2  y\n",
       " 0   1   4  0\n",
       " 2   1   6  0\n",
       " 3   1   2  1\n",
       " 8   1   7  1,\n",
       "    x1  x2  y\n",
       " 1   7   6  0\n",
       " 4   5   2  1\n",
       " 5   7   2  1\n",
       " 6   5   4  0\n",
       " 7   2   4  0\n",
       " 9   2   7  1)"
      ]
     },
     "execution_count": 14,
     "metadata": {},
     "output_type": "execute_result"
    }
   ],
   "source": [
    "lossFunction(df, 'x1', 1)"
   ]
  },
  {
   "cell_type": "markdown",
   "id": "4d41d0c9",
   "metadata": {
    "papermill": {
     "duration": 0.036335,
     "end_time": "2022-09-09T11:22:40.278442",
     "exception": false,
     "start_time": "2022-09-09T11:22:40.242107",
     "status": "completed"
    },
    "tags": []
   },
   "source": [
    "Now, let us compute the Loss for each split point under our consideration and establish the split point where the loss is the least."
   ]
  },
  {
   "cell_type": "code",
   "execution_count": 15,
   "id": "0404f05d",
   "metadata": {
    "papermill": {
     "duration": 0.143758,
     "end_time": "2022-09-09T11:22:40.457574",
     "exception": false,
     "start_time": "2022-09-09T11:22:40.313816",
     "status": "completed"
    },
    "tags": []
   },
   "outputs": [
    {
     "name": "stdout",
     "output_type": "stream",
     "text": [
      "Minimum Loss Point:    Feature  Threshold      Loss\n",
      "14      x2        2.0  0.285714\n",
      "15      x2        2.5  0.285714\n",
      "16      x2        3.0  0.285714\n",
      "17      x2        3.5  0.285714\n",
      "\n",
      "\n",
      "   Feature  Threshold      Loss\n",
      "0       x1        1.0  0.500000\n",
      "1       x1        1.5  0.500000\n",
      "2       x1        2.0  0.500000\n",
      "3       x1        2.5  0.500000\n",
      "4       x1        3.0  0.500000\n",
      "5       x1        3.5  0.500000\n",
      "6       x1        4.0  0.500000\n",
      "7       x1        4.5  0.500000\n",
      "8       x1        5.0  0.500000\n",
      "9       x1        5.5  0.500000\n",
      "10      x1        6.0  0.500000\n",
      "11      x1        6.5  0.500000\n",
      "12      x1        7.0  0.500000\n",
      "13      x1        7.5  0.500000\n",
      "14      x2        2.0  0.285714\n",
      "15      x2        2.5  0.285714\n",
      "16      x2        3.0  0.285714\n",
      "17      x2        3.5  0.285714\n",
      "18      x2        4.0  0.500000\n",
      "19      x2        4.5  0.500000\n",
      "20      x2        5.0  0.500000\n",
      "21      x2        5.5  0.500000\n",
      "22      x2        6.0  0.375000\n",
      "23      x2        6.5  0.375000\n",
      "24      x2        7.0  0.500000\n",
      "25      x2        7.5  0.500000\n"
     ]
    }
   ],
   "source": [
    "# For (feature, value) pairs compute loss values\n",
    "losses = []\n",
    "feature = []\n",
    "thresholds = []\n",
    "\n",
    "for x1 in x1_:\n",
    "    feature.append('x1')\n",
    "    thresholds.append(x1)\n",
    "    losses.append(lossFunction(df, 'x1', x1)[0])\n",
    "\n",
    "for x2 in x2_:\n",
    "    feature.append('x2')\n",
    "    thresholds.append(x2)\n",
    "    losses.append(lossFunction(df, 'x2', x2)[0])\n",
    "    \n",
    "dfLoss = pd.DataFrame({\"Feature\": feature, \"Threshold\": thresholds, \"Loss\": losses})\n",
    "print('Minimum Loss Point:', dfLoss[dfLoss.Loss == dfLoss.Loss.min()])\n",
    "print('\\n')\n",
    "print(dfLoss)"
   ]
  },
  {
   "cell_type": "markdown",
   "id": "d9204a53",
   "metadata": {
    "papermill": {
     "duration": 0.035448,
     "end_time": "2022-09-09T11:22:40.529462",
     "exception": false,
     "start_time": "2022-09-09T11:22:40.494014",
     "status": "completed"
    },
    "tags": []
   },
   "source": [
    "We have more than 1 split where the loss is minimum. So, we can pick any one of them as our split point. We pick the last of such points."
   ]
  },
  {
   "cell_type": "code",
   "execution_count": 16,
   "id": "0515958d",
   "metadata": {
    "papermill": {
     "duration": 0.055667,
     "end_time": "2022-09-09T11:22:40.621854",
     "exception": false,
     "start_time": "2022-09-09T11:22:40.566187",
     "status": "completed"
    },
    "tags": []
   },
   "outputs": [
    {
     "data": {
      "text/html": [
       "<div>\n",
       "<style scoped>\n",
       "    .dataframe tbody tr th:only-of-type {\n",
       "        vertical-align: middle;\n",
       "    }\n",
       "\n",
       "    .dataframe tbody tr th {\n",
       "        vertical-align: top;\n",
       "    }\n",
       "\n",
       "    .dataframe thead th {\n",
       "        text-align: right;\n",
       "    }\n",
       "</style>\n",
       "<table border=\"1\" class=\"dataframe\">\n",
       "  <thead>\n",
       "    <tr style=\"text-align: right;\">\n",
       "      <th></th>\n",
       "      <th>Feature</th>\n",
       "      <th>Threshold</th>\n",
       "      <th>Loss</th>\n",
       "    </tr>\n",
       "  </thead>\n",
       "  <tbody>\n",
       "    <tr>\n",
       "      <th>17</th>\n",
       "      <td>x2</td>\n",
       "      <td>3.5</td>\n",
       "      <td>0.285714</td>\n",
       "    </tr>\n",
       "  </tbody>\n",
       "</table>\n",
       "</div>"
      ],
      "text/plain": [
       "   Feature  Threshold      Loss\n",
       "17      x2        3.5  0.285714"
      ]
     },
     "execution_count": 16,
     "metadata": {},
     "output_type": "execute_result"
    }
   ],
   "source": [
    "# Min loss value occurs at\n",
    "minLossValue = dfLoss['Loss'].min()\n",
    "minLoss = dfLoss[dfLoss['Loss'] == minLossValue].iloc[[-1], :]\n",
    "minLoss"
   ]
  },
  {
   "cell_type": "code",
   "execution_count": 17,
   "id": "7870dc34",
   "metadata": {
    "papermill": {
     "duration": 1.332581,
     "end_time": "2022-09-09T11:22:41.992578",
     "exception": false,
     "start_time": "2022-09-09T11:22:40.659997",
     "status": "completed"
    },
    "tags": []
   },
   "outputs": [
    {
     "data": {
      "image/png": "[encoded data removed]",
      "text/plain": [
       "<IPython.core.display.Image object>"
      ]
     },
     "execution_count": 17,
     "metadata": {},
     "output_type": "execute_result"
    }
   ],
   "source": [
    "import graphviz\n",
    "import pydot\n",
    "from IPython.display import Image\n",
    "\n",
    "dot = graphviz.Digraph('decision-tree', comment='Decision Tree')  \n",
    "dot.node('RootNode', label=f\"x2 <= {minLoss['Threshold'].values[0]}\\nGini = {giniIndex(df)}\\nSamples = {len(df)}\\nValues = {df['y'].value_counts().to_dict()}\", shape = 'square')\n",
    "dot.render(filename = './temp.dot')\n",
    "(graph,) = pydot.graph_from_dot_file('./temp.dot')\n",
    "graph.write_png('./temp.png')\n",
    "Image('./temp.png')"
   ]
  },
  {
   "cell_type": "markdown",
   "id": "b63a5a71",
   "metadata": {
    "papermill": {
     "duration": 0.036594,
     "end_time": "2022-09-09T11:22:42.066732",
     "exception": false,
     "start_time": "2022-09-09T11:22:42.030138",
     "status": "completed"
    },
    "tags": []
   },
   "source": [
    "So, we have our Root Node.\n",
    "\n",
    "Now, let us examine the set x2 <= 3.75."
   ]
  },
  {
   "cell_type": "code",
   "execution_count": 18,
   "id": "4fa00250",
   "metadata": {
    "papermill": {
     "duration": 0.053426,
     "end_time": "2022-09-09T11:22:42.156104",
     "exception": false,
     "start_time": "2022-09-09T11:22:42.102678",
     "status": "completed"
    },
    "tags": []
   },
   "outputs": [
    {
     "data": {
      "text/plain": [
       "0.0"
      ]
     },
     "execution_count": 18,
     "metadata": {},
     "output_type": "execute_result"
    }
   ],
   "source": [
    "# First split\n",
    "loss1, df_left, df_right = lossFunction(df, minLoss['Feature'].values[0], minLoss['Threshold'].values[0])\n",
    "giniIndex(df_left)"
   ]
  },
  {
   "cell_type": "markdown",
   "id": "3e9e06a9",
   "metadata": {
    "papermill": {
     "duration": 0.037973,
     "end_time": "2022-09-09T11:22:42.230356",
     "exception": false,
     "start_time": "2022-09-09T11:22:42.192383",
     "status": "completed"
    },
    "tags": []
   },
   "source": [
    "So, we have a Leaf Node as the Gini Index is 0."
   ]
  },
  {
   "cell_type": "code",
   "execution_count": 19,
   "id": "49af0675",
   "metadata": {
    "papermill": {
     "duration": 0.148954,
     "end_time": "2022-09-09T11:22:42.416040",
     "exception": false,
     "start_time": "2022-09-09T11:22:42.267086",
     "status": "completed"
    },
    "tags": []
   },
   "outputs": [
    {
     "data": {
      "image/png": "[encoded data removed]",
      "text/plain": [
       "<IPython.core.display.Image object>"
      ]
     },
     "execution_count": 19,
     "metadata": {},
     "output_type": "execute_result"
    }
   ],
   "source": [
    "dot = graphviz.Digraph('decision-tree', comment='Decision Tree')  \n",
    "dot.node('RootNode', label=f\"x2 <= {minLoss['Threshold'].values[0]}\\nGini = {giniIndex(df)}\\nSamples = {len(df)}\\nValues = {df['y'].value_counts().to_dict()}\", shape = 'square')\n",
    "dot.node('LeafNode1', label=f\"Gini = {giniIndex(df_left)}\\nSamples = {len(df_left)}\\nValues = {df_left['y'].value_counts().to_dict()}\", shape = 'square', color='orange')\n",
    "dot.edge('RootNode', 'LeafNode1', label = 'True')\n",
    "dot.render(filename = './temp.dot')\n",
    "(graph,) = pydot.graph_from_dot_file('./temp.dot')\n",
    "graph.write_png('./temp.png')\n",
    "Image('./temp.png')"
   ]
  },
  {
   "cell_type": "markdown",
   "id": "0e99799c",
   "metadata": {
    "papermill": {
     "duration": 0.037354,
     "end_time": "2022-09-09T11:22:42.491826",
     "exception": false,
     "start_time": "2022-09-09T11:22:42.454472",
     "status": "completed"
    },
    "tags": []
   },
   "source": [
    "Now, let us test the set x2 > 3.75."
   ]
  },
  {
   "cell_type": "code",
   "execution_count": 20,
   "id": "fa2bd9bb",
   "metadata": {
    "papermill": {
     "duration": 0.051319,
     "end_time": "2022-09-09T11:22:42.580734",
     "exception": false,
     "start_time": "2022-09-09T11:22:42.529415",
     "status": "completed"
    },
    "tags": []
   },
   "outputs": [
    {
     "data": {
      "text/plain": [
       "0.40816326530612246"
      ]
     },
     "execution_count": 20,
     "metadata": {},
     "output_type": "execute_result"
    }
   ],
   "source": [
    "giniIndex(df_right)"
   ]
  },
  {
   "cell_type": "markdown",
   "id": "50e38fce",
   "metadata": {
    "papermill": {
     "duration": 0.038027,
     "end_time": "2022-09-09T11:22:42.656122",
     "exception": false,
     "start_time": "2022-09-09T11:22:42.618095",
     "status": "completed"
    },
    "tags": []
   },
   "source": [
    "We find that there is some impurity at this node. So, this is a node we have to split further."
   ]
  },
  {
   "cell_type": "code",
   "execution_count": 21,
   "id": "921217e5",
   "metadata": {
    "papermill": {
     "duration": 0.126519,
     "end_time": "2022-09-09T11:22:42.820190",
     "exception": false,
     "start_time": "2022-09-09T11:22:42.693671",
     "status": "completed"
    },
    "tags": []
   },
   "outputs": [
    {
     "name": "stdout",
     "output_type": "stream",
     "text": [
      "Minimum Loss Point:    Feature  Threshold  Loss\n",
      "18      x2        6.0   0.0\n",
      "19      x2        6.5   0.0\n",
      "\n",
      "\n",
      "   Feature  Threshold      Loss\n",
      "0       x1        1.0  0.404762\n",
      "1       x1        1.5  0.404762\n",
      "2       x1        2.0  0.342857\n",
      "3       x1        2.5  0.342857\n",
      "4       x1        3.0  0.342857\n",
      "5       x1        3.5  0.342857\n",
      "6       x1        4.0  0.342857\n",
      "7       x1        4.5  0.342857\n",
      "8       x1        5.0  0.380952\n",
      "9       x1        5.5  0.380952\n",
      "10      x1        6.0  0.380952\n",
      "11      x1        6.5  0.380952\n",
      "12      x1        7.0  0.408163\n",
      "13      x1        7.5  0.408163\n",
      "14      x2        4.0  0.285714\n",
      "15      x2        4.5  0.285714\n",
      "16      x2        5.0  0.285714\n",
      "17      x2        5.5  0.285714\n",
      "18      x2        6.0  0.000000\n",
      "19      x2        6.5  0.000000\n",
      "20      x2        7.0  0.408163\n",
      "21      x2        7.5  0.408163\n"
     ]
    }
   ],
   "source": [
    "# New Split thresholds\n",
    "x1_r = np.arange(df_right['x1'].min(), df_right['x1'].max()+1, 0.5)               \n",
    "x2_r = np.arange(df_right['x2'].min(), df_right['x2'].max()+1, 0.5)\n",
    "\n",
    "losses2 = []\n",
    "feature2 = []\n",
    "thresholds2 = []\n",
    "\n",
    "for x1 in x1_r:\n",
    "    feature2.append('x1')\n",
    "    thresholds2.append(x1)\n",
    "    losses2.append(lossFunction(df_right, 'x1', x1)[0])\n",
    "\n",
    "for x2 in x2_r:\n",
    "    feature2.append('x2')\n",
    "    thresholds2.append(x2)\n",
    "    losses2.append(lossFunction(df_right, 'x2', x2)[0])\n",
    "    \n",
    "dfloss_r = pd.DataFrame({\"Feature\": feature2, \"Threshold\": thresholds2, \"Loss\": losses2})\n",
    "print('Minimum Loss Point:', dfloss_r[dfloss_r.Loss == dfloss_r.Loss.min()])\n",
    "print('\\n')\n",
    "print(dfloss_r)"
   ]
  },
  {
   "cell_type": "markdown",
   "id": "0cebeda7",
   "metadata": {
    "papermill": {
     "duration": 0.037305,
     "end_time": "2022-09-09T11:22:42.895180",
     "exception": false,
     "start_time": "2022-09-09T11:22:42.857875",
     "status": "completed"
    },
    "tags": []
   },
   "source": [
    "Again we find that we have multiple points where the loss s minimum. So, we will pick the last of these points for a split. However, we find that the Gini Index is 0. So, this split will yield 2 Leaf Nodes."
   ]
  },
  {
   "cell_type": "code",
   "execution_count": 22,
   "id": "3bb81d8f",
   "metadata": {
    "papermill": {
     "duration": 0.054741,
     "end_time": "2022-09-09T11:22:42.987569",
     "exception": false,
     "start_time": "2022-09-09T11:22:42.932828",
     "status": "completed"
    },
    "tags": []
   },
   "outputs": [
    {
     "data": {
      "text/html": [
       "<div>\n",
       "<style scoped>\n",
       "    .dataframe tbody tr th:only-of-type {\n",
       "        vertical-align: middle;\n",
       "    }\n",
       "\n",
       "    .dataframe tbody tr th {\n",
       "        vertical-align: top;\n",
       "    }\n",
       "\n",
       "    .dataframe thead th {\n",
       "        text-align: right;\n",
       "    }\n",
       "</style>\n",
       "<table border=\"1\" class=\"dataframe\">\n",
       "  <thead>\n",
       "    <tr style=\"text-align: right;\">\n",
       "      <th></th>\n",
       "      <th>Feature</th>\n",
       "      <th>Threshold</th>\n",
       "      <th>Loss</th>\n",
       "    </tr>\n",
       "  </thead>\n",
       "  <tbody>\n",
       "    <tr>\n",
       "      <th>19</th>\n",
       "      <td>x2</td>\n",
       "      <td>6.5</td>\n",
       "      <td>0.0</td>\n",
       "    </tr>\n",
       "  </tbody>\n",
       "</table>\n",
       "</div>"
      ],
      "text/plain": [
       "   Feature  Threshold  Loss\n",
       "19      x2        6.5   0.0"
      ]
     },
     "execution_count": 22,
     "metadata": {},
     "output_type": "execute_result"
    }
   ],
   "source": [
    "min_loss_value_r = dfloss_r['Loss'].min()\n",
    "min_loss_r = dfloss_r[dfloss_r['Loss'] == min_loss_value_r].iloc[[-1], :]\n",
    "min_loss_r"
   ]
  },
  {
   "cell_type": "code",
   "execution_count": 23,
   "id": "9e82b41f",
   "metadata": {
    "papermill": {
     "duration": 0.173105,
     "end_time": "2022-09-09T11:22:43.198474",
     "exception": false,
     "start_time": "2022-09-09T11:22:43.025369",
     "status": "completed"
    },
    "tags": []
   },
   "outputs": [
    {
     "data": {
      "image/png": "[encoded data removed]",
      "text/plain": [
       "<IPython.core.display.Image object>"
      ]
     },
     "execution_count": 23,
     "metadata": {},
     "output_type": "execute_result"
    }
   ],
   "source": [
    "dot = graphviz.Digraph('decision-tree', comment='Decision Tree')  \n",
    "dot.node('RootNode', label=f\"x2 <= {minLoss['Threshold'].values[0]}\\nGini = {giniIndex(df)}\\nSamples = {len(df)}\\nValues = {df['y'].value_counts().to_dict()}\", shape = 'square')\n",
    "dot.node('LeafNode1', label=f\"Gini = {giniIndex(df_left)}\\nSamples = {len(df_left)}\\nValues = {df_left['y'].value_counts().to_dict()}\", shape = 'square', color='orange')\n",
    "dot.node('Node1', label=f\"x2 <= {min_loss_r['Threshold'].values[0]}\\nGini = {giniIndex(df_right).round(4)}\\nSamples = {len(df_right)}\\nValues = {df_right['y'].value_counts().to_dict()}\", shape = 'square')\n",
    "dot.edge('RootNode', 'LeafNode1', label = 'True')\n",
    "dot.edge('RootNode', 'Node1', label = 'False')\n",
    "dot.render(filename = './temp.dot')\n",
    "(graph,) = pydot.graph_from_dot_file('./temp.dot')\n",
    "graph.write_png('./temp.png')\n",
    "Image('./temp.png')"
   ]
  },
  {
   "cell_type": "code",
   "execution_count": 24,
   "id": "2d4f0c89",
   "metadata": {
    "papermill": {
     "duration": 0.060569,
     "end_time": "2022-09-09T11:22:43.372834",
     "exception": false,
     "start_time": "2022-09-09T11:22:43.312265",
     "status": "completed"
    },
    "tags": []
   },
   "outputs": [
    {
     "name": "stdout",
     "output_type": "stream",
     "text": [
      "Gini Index - Left: 0.0\n",
      "Gini Index - Right: 0.0\n"
     ]
    }
   ],
   "source": [
    "# Second split\n",
    "loss2, df_right_left, df_right_right = lossFunction(df_right, min_loss_r['Feature'].values[0], min_loss_r['Threshold'].values[0])\n",
    "\n",
    "print('Gini Index - Left:', giniIndex(df_right_left))\n",
    "print('Gini Index - Right:', giniIndex(df_right_right))"
   ]
  },
  {
   "cell_type": "code",
   "execution_count": 25,
   "id": "064f2090",
   "metadata": {
    "papermill": {
     "duration": 0.368245,
     "end_time": "2022-09-09T11:22:43.779275",
     "exception": false,
     "start_time": "2022-09-09T11:22:43.411030",
     "status": "completed"
    },
    "tags": []
   },
   "outputs": [
    {
     "data": {
      "image/png": "[encoded data removed]",
      "text/plain": [
       "<IPython.core.display.Image object>"
      ]
     },
     "execution_count": 25,
     "metadata": {},
     "output_type": "execute_result"
    }
   ],
   "source": [
    "dot = graphviz.Digraph('decision-tree', comment='Decision Tree')  \n",
    "dot.node('RootNode', label=f\"x2 <= {minLoss['Threshold'].values[0]}\\nGini = {giniIndex(df)}\\nSamples = {len(df)}\\nValues = {df['y'].value_counts().to_dict()}\", shape = 'square')\n",
    "dot.node('LeafNode1', label=f\"Gini = {giniIndex(df_left)}\\nSamples = {len(df_left)}\\nValues = {df_left['y'].value_counts().to_dict()}\", shape = 'square', color='orange')\n",
    "dot.node('Node1', label=f\"x2 <= {min_loss_r['Threshold'].values[0]}\\nGini = {giniIndex(df_right).round(4)}\\nSamples = {len(df_right)}\\nValues = {df_right['y'].value_counts().to_dict()}\", shape = 'square')\n",
    "dot.node('LeafNode2', label=f\"Gini = {giniIndex(df_right_left)}\\nSamples = {len(df_right_left)}\\nValues = {df_right_left['y'].value_counts().to_dict()}\", shape = 'square', color='blue')\n",
    "dot.node('LeafNode3', label=f\"Gini = {giniIndex(df_right_right)}\\nSamples = {len(df_right_right)}\\nValues = {df_right_right['y'].value_counts().to_dict()}\", shape = 'square', color='orange')\n",
    "dot.edge('RootNode', 'LeafNode1', label = 'True')\n",
    "dot.edge('RootNode', 'Node1', label = 'False')\n",
    "dot.edge('Node1', 'LeafNode2', label = 'True')\n",
    "dot.edge('Node1', 'LeafNode3', label = 'False')\n",
    "dot.render(filename = './temp.dot')\n",
    "(graph,) = pydot.graph_from_dot_file('./temp.dot')\n",
    "graph.write_png('./temp.png')\n",
    "Image('./temp.png')"
   ]
  },
  {
   "cell_type": "markdown",
   "id": "825e8313",
   "metadata": {
    "papermill": {
     "duration": 0.040249,
     "end_time": "2022-09-09T11:22:43.858696",
     "exception": false,
     "start_time": "2022-09-09T11:22:43.818447",
     "status": "completed"
    },
    "tags": []
   },
   "source": [
    "#### Building Decision Tree using Scikit-Learn.\n",
    "\n",
    "In reality, we do not have to perform so many calculations. We will generally use a library and one such library is Scikit-Learn. Below we create the Decision Tree for this data using Scikit-Learn. Note that it is different from our Tree as Scikit-Learn treats all features as a continuous variable."
   ]
  },
  {
   "cell_type": "code",
   "execution_count": 26,
   "id": "635b51ed",
   "metadata": {
    "papermill": {
     "duration": 1.503897,
     "end_time": "2022-09-09T11:22:45.402580",
     "exception": false,
     "start_time": "2022-09-09T11:22:43.898683",
     "status": "completed"
    },
    "tags": []
   },
   "outputs": [
    {
     "data": {
      "image/png": "[encoded data removed]",
      "text/plain": [
       "<IPython.core.display.Image object>"
      ]
     },
     "execution_count": 26,
     "metadata": {},
     "output_type": "execute_result"
    }
   ],
   "source": [
    "from sklearn.tree import DecisionTreeClassifier\n",
    "\n",
    "X = df[['x1', 'x2']]\n",
    "y = df['y']\n",
    "\n",
    "dtree = DecisionTreeClassifier(criterion = 'gini')\n",
    "dtree.fit(X, y)\n",
    "\n",
    "from six import StringIO\n",
    "from sklearn.tree import export_graphviz\n",
    "import pydotplus\n",
    "\n",
    "dot_data = StringIO()\n",
    "export_graphviz(dtree, out_file = dot_data,  \n",
    "                filled = True, rounded = True,\n",
    "                special_characters = True)\n",
    "\n",
    "graph = pydotplus.graph_from_dot_data(dot_data.getvalue())  \n",
    "Image(graph.create_png())"
   ]
  }
 ],
 "metadata": {
  "kernelspec": {
   "display_name": "Python 3 (ipykernel)",
   "language": "python",
   "name": "python3"
  },
  "language_info": {
   "codemirror_mode": {
    "name": "ipython",
    "version": 3
   },
   "file_extension": ".py",
   "mimetype": "text/x-python",
   "name": "python",
   "nbconvert_exporter": "python",
   "pygments_lexer": "ipython3",
   "version": "3.9.12"
  },
  "papermill": {
   "default_parameters": {},
   "duration": 27343.177088,
   "end_time": "2022-09-09T18:56:16.540723",
   "environment_variables": {},
   "exception": null,
   "input_path": "__notebook__.ipynb",
   "output_path": "__notebook__.ipynb",
   "parameters": {},
   "start_time": "2022-09-09T11:20:33.363635",
   "version": "2.3.4"
  }
 },
 "nbformat": 4,
 "nbformat_minor": 5
}
