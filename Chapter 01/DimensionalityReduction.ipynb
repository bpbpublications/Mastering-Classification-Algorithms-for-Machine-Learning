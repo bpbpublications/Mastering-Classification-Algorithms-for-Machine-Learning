{
 "cells": [
  {
   "cell_type": "code",
   "execution_count": 1,
   "id": "7c2ac594-62e9-499a-9c9b-5118793b7e80",
   "metadata": {},
   "outputs": [],
   "source": [
    "import warnings\n",
    "warnings.filterwarnings('ignore')"
   ]
  },
  {
   "cell_type": "markdown",
   "id": "08d0e6e5-aa7b-4783-96da-1d354207b2fc",
   "metadata": {},
   "source": [
    "# Dimensionality Reduction"
   ]
  },
  {
   "cell_type": "code",
   "execution_count": 2,
   "id": "7d6a94dd-6562-4c67-8593-0700bfc30c60",
   "metadata": {},
   "outputs": [
    {
     "data": {
      "text/html": [
       "<div>\n",
       "<style scoped>\n",
       "    .dataframe tbody tr th:only-of-type {\n",
       "        vertical-align: middle;\n",
       "    }\n",
       "\n",
       "    .dataframe tbody tr th {\n",
       "        vertical-align: top;\n",
       "    }\n",
       "\n",
       "    .dataframe thead th {\n",
       "        text-align: right;\n",
       "    }\n",
       "</style>\n",
       "<table border=\"1\" class=\"dataframe\">\n",
       "  <thead>\n",
       "    <tr style=\"text-align: right;\">\n",
       "      <th></th>\n",
       "      <th>ContainsSpellingMistakes</th>\n",
       "      <th>ContainsUrgent</th>\n",
       "      <th>ContainsASAP</th>\n",
       "      <th>ContainsLink</th>\n",
       "      <th>Label</th>\n",
       "    </tr>\n",
       "  </thead>\n",
       "  <tbody>\n",
       "    <tr>\n",
       "      <th>0</th>\n",
       "      <td>NO</td>\n",
       "      <td>NO</td>\n",
       "      <td>NO</td>\n",
       "      <td>YES</td>\n",
       "      <td>Benign</td>\n",
       "    </tr>\n",
       "    <tr>\n",
       "      <th>1</th>\n",
       "      <td>NO</td>\n",
       "      <td>NO</td>\n",
       "      <td>NO</td>\n",
       "      <td>NO</td>\n",
       "      <td>Benign</td>\n",
       "    </tr>\n",
       "    <tr>\n",
       "      <th>2</th>\n",
       "      <td>YES</td>\n",
       "      <td>NO</td>\n",
       "      <td>YES</td>\n",
       "      <td>NO</td>\n",
       "      <td>Spam</td>\n",
       "    </tr>\n",
       "    <tr>\n",
       "      <th>3</th>\n",
       "      <td>NO</td>\n",
       "      <td>YES</td>\n",
       "      <td>YES</td>\n",
       "      <td>YES</td>\n",
       "      <td>Spam</td>\n",
       "    </tr>\n",
       "    <tr>\n",
       "      <th>4</th>\n",
       "      <td>YES</td>\n",
       "      <td>NO</td>\n",
       "      <td>NO</td>\n",
       "      <td>YES</td>\n",
       "      <td>Benign</td>\n",
       "    </tr>\n",
       "    <tr>\n",
       "      <th>5</th>\n",
       "      <td>YES</td>\n",
       "      <td>YES</td>\n",
       "      <td>YES</td>\n",
       "      <td>YES</td>\n",
       "      <td>Spam</td>\n",
       "    </tr>\n",
       "  </tbody>\n",
       "</table>\n",
       "</div>"
      ],
      "text/plain": [
       "  ContainsSpellingMistakes ContainsUrgent ContainsASAP ContainsLink   Label\n",
       "0                       NO             NO           NO          YES  Benign\n",
       "1                       NO             NO           NO           NO  Benign\n",
       "2                      YES             NO          YES           NO    Spam\n",
       "3                       NO            YES          YES          YES    Spam\n",
       "4                      YES             NO           NO          YES  Benign\n",
       "5                      YES            YES          YES          YES    Spam"
      ]
     },
     "execution_count": 2,
     "metadata": {},
     "output_type": "execute_result"
    }
   ],
   "source": [
    "import pandas as pd\n",
    "\n",
    "df = pd.DataFrame([['NO', 'NO', 'NO', 'YES', 'Benign'],\n",
    "                   ['NO', 'NO', 'NO', 'NO', 'Benign'],\n",
    "                   ['YES', 'NO', 'YES', 'NO', 'Spam'],\n",
    "                   ['NO', 'YES', 'YES', 'YES', 'Spam'],\n",
    "                   ['YES', 'NO', 'NO', 'YES', 'Benign'],\n",
    "                   ['YES', 'YES', 'YES', 'YES', 'Spam']\n",
    "                  ],\n",
    "                  columns = ['ContainsSpellingMistakes', 'ContainsUrgent', 'ContainsASAP',  'ContainsLink', 'Label']\n",
    "                 )\n",
    "df"
   ]
  },
  {
   "cell_type": "code",
   "execution_count": 3,
   "id": "999e0768-472d-41cf-aa94-3bcce040b7a8",
   "metadata": {},
   "outputs": [
    {
     "name": "stdout",
     "output_type": "stream",
     "text": [
      "  ContainsSpellingMistakes ContainsUrgent ContainsASAP ContainsLink\n",
      "0                       NO             NO           NO          YES\n",
      "1                       NO             NO           NO           NO\n",
      "2                      YES             NO          YES           NO\n",
      "3                       NO            YES          YES          YES\n",
      "4                      YES             NO           NO          YES\n",
      "5                      YES            YES          YES          YES \n",
      "\n",
      " 0    Benign\n",
      "1    Benign\n",
      "2      Spam\n",
      "3      Spam\n",
      "4    Benign\n",
      "5      Spam\n",
      "Name: Label, dtype: object\n"
     ]
    }
   ],
   "source": [
    "X = df.drop('Label', axis = 1, inplace = False)\n",
    "y = df['Label']\n",
    "\n",
    "print(X, '\\n\\n', y)"
   ]
  },
  {
   "cell_type": "code",
   "execution_count": 4,
   "id": "a125b38a-f785-44d3-ad74-95c11fdb0ae5",
   "metadata": {},
   "outputs": [
    {
     "name": "stdout",
     "output_type": "stream",
     "text": [
      "   ContainsSpellingMistakes  ContainsUrgent  ContainsASAP  ContainsLink\n",
      "0                         0               0             0             1\n",
      "1                         0               0             0             0\n",
      "2                         1               0             1             0\n",
      "3                         0               1             1             1\n",
      "4                         1               0             0             1\n",
      "5                         1               1             1             1 \n",
      "\n",
      " [0 0 1 1 0 1]\n"
     ]
    }
   ],
   "source": [
    "from sklearn.preprocessing import LabelEncoder\n",
    "\n",
    "# Convert all data to numbers\n",
    "leX = LabelEncoder()\n",
    "XL = X.apply(leX.fit_transform)\n",
    "\n",
    "leY = LabelEncoder()\n",
    "yL = leY.fit_transform(y)\n",
    "\n",
    "print(XL, '\\n\\n', yL)"
   ]
  },
  {
   "cell_type": "code",
   "execution_count": 5,
   "id": "b6791200-b665-4311-b15d-f197ad80692d",
   "metadata": {},
   "outputs": [
    {
     "data": {
      "text/html": [
       "<div>\n",
       "<style scoped>\n",
       "    .dataframe tbody tr th:only-of-type {\n",
       "        vertical-align: middle;\n",
       "    }\n",
       "\n",
       "    .dataframe tbody tr th {\n",
       "        vertical-align: top;\n",
       "    }\n",
       "\n",
       "    .dataframe thead th {\n",
       "        text-align: right;\n",
       "    }\n",
       "</style>\n",
       "<table border=\"1\" class=\"dataframe\">\n",
       "  <thead>\n",
       "    <tr style=\"text-align: right;\">\n",
       "      <th></th>\n",
       "      <th>Feature1</th>\n",
       "      <th>Feature2</th>\n",
       "    </tr>\n",
       "  </thead>\n",
       "  <tbody>\n",
       "    <tr>\n",
       "      <th>0</th>\n",
       "      <td>-0.569933</td>\n",
       "      <td>-0.580462</td>\n",
       "    </tr>\n",
       "    <tr>\n",
       "      <th>1</th>\n",
       "      <td>-0.882814</td>\n",
       "      <td>-0.010497</td>\n",
       "    </tr>\n",
       "    <tr>\n",
       "      <th>2</th>\n",
       "      <td>0.042248</td>\n",
       "      <td>0.973800</td>\n",
       "    </tr>\n",
       "    <tr>\n",
       "      <th>3</th>\n",
       "      <td>0.715967</td>\n",
       "      <td>-0.614335</td>\n",
       "    </tr>\n",
       "    <tr>\n",
       "      <th>4</th>\n",
       "      <td>-0.295684</td>\n",
       "      <td>0.132684</td>\n",
       "    </tr>\n",
       "    <tr>\n",
       "      <th>5</th>\n",
       "      <td>0.990216</td>\n",
       "      <td>0.098810</td>\n",
       "    </tr>\n",
       "  </tbody>\n",
       "</table>\n",
       "</div>"
      ],
      "text/plain": [
       "   Feature1  Feature2\n",
       "0 -0.569933 -0.580462\n",
       "1 -0.882814 -0.010497\n",
       "2  0.042248  0.973800\n",
       "3  0.715967 -0.614335\n",
       "4 -0.295684  0.132684\n",
       "5  0.990216  0.098810"
      ]
     },
     "execution_count": 5,
     "metadata": {},
     "output_type": "execute_result"
    }
   ],
   "source": [
    "from sklearn import decomposition\n",
    "\n",
    "pca = decomposition.PCA(n_components = 2)\n",
    "pca.fit(XL)\n",
    "X = pca.transform(XL)\n",
    "X = pd.DataFrame(X, columns = ['Feature1', 'Feature2'])\n",
    "X"
   ]
  },
  {
   "cell_type": "code",
   "execution_count": 6,
   "id": "845da1a1-43a2-45ea-b2ce-c0ce008f6ba2",
   "metadata": {},
   "outputs": [
    {
     "data": {
      "image/png": "[encoded data removed]",
      "text/plain": [
       "<Figure size 720x432 with 1 Axes>"
      ]
     },
     "metadata": {
      "needs_background": "light"
     },
     "output_type": "display_data"
    }
   ],
   "source": [
    "import matplotlib.pyplot as plt\n",
    "%matplotlib inline\n",
    "\n",
    "fig = plt.figure(figsize = (10, 6))\n",
    "ax = fig.add_subplot(1, 1, 1)\n",
    "\n",
    "plt.scatter(X.Feature1, X.Feature2, marker = 'o', s = 500, c = yL)\n",
    "\n",
    "ax.set_xlabel('Feature 1')\n",
    "ax.set_ylabel('Feature 2')\n",
    "\n",
    "plt.show()"
   ]
  }
 ],
 "metadata": {
  "kernelspec": {
   "display_name": "Python 3 (ipykernel)",
   "language": "python",
   "name": "python3"
  },
  "language_info": {
   "codemirror_mode": {
    "name": "ipython",
    "version": 3
   },
   "file_extension": ".py",
   "mimetype": "text/x-python",
   "name": "python",
   "nbconvert_exporter": "python",
   "pygments_lexer": "ipython3",
   "version": "3.9.7"
  }
 },
 "nbformat": 4,
 "nbformat_minor": 5
}
