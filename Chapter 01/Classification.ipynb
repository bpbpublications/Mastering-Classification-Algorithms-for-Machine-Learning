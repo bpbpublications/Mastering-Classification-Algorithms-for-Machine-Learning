{
 "cells": [
  {
   "cell_type": "code",
   "execution_count": 1,
   "id": "7c2ac594-62e9-499a-9c9b-5118793b7e80",
   "metadata": {},
   "outputs": [],
   "source": [
    "import warnings\n",
    "warnings.filterwarnings('ignore')"
   ]
  },
  {
   "cell_type": "markdown",
   "id": "701995b2-d08b-4e95-9221-9e91eff68818",
   "metadata": {},
   "source": [
    "# Classification"
   ]
  },
  {
   "cell_type": "code",
   "execution_count": 2,
   "id": "a54a23fd-cbdf-4703-b8fa-df47fa676186",
   "metadata": {},
   "outputs": [
    {
     "data": {
      "text/html": [
       "<div>\n",
       "<style scoped>\n",
       "    .dataframe tbody tr th:only-of-type {\n",
       "        vertical-align: middle;\n",
       "    }\n",
       "\n",
       "    .dataframe tbody tr th {\n",
       "        vertical-align: top;\n",
       "    }\n",
       "\n",
       "    .dataframe thead th {\n",
       "        text-align: right;\n",
       "    }\n",
       "</style>\n",
       "<table border=\"1\" class=\"dataframe\">\n",
       "  <thead>\n",
       "    <tr style=\"text-align: right;\">\n",
       "      <th></th>\n",
       "      <th>ContainsSpellingMistakes</th>\n",
       "      <th>ContainsUrgent</th>\n",
       "      <th>ContainsASAP</th>\n",
       "      <th>ContainsLink</th>\n",
       "      <th>Label</th>\n",
       "    </tr>\n",
       "  </thead>\n",
       "  <tbody>\n",
       "    <tr>\n",
       "      <th>0</th>\n",
       "      <td>NO</td>\n",
       "      <td>NO</td>\n",
       "      <td>NO</td>\n",
       "      <td>YES</td>\n",
       "      <td>Benign</td>\n",
       "    </tr>\n",
       "    <tr>\n",
       "      <th>1</th>\n",
       "      <td>NO</td>\n",
       "      <td>NO</td>\n",
       "      <td>NO</td>\n",
       "      <td>NO</td>\n",
       "      <td>Benign</td>\n",
       "    </tr>\n",
       "    <tr>\n",
       "      <th>2</th>\n",
       "      <td>YES</td>\n",
       "      <td>NO</td>\n",
       "      <td>YES</td>\n",
       "      <td>NO</td>\n",
       "      <td>Spam</td>\n",
       "    </tr>\n",
       "    <tr>\n",
       "      <th>3</th>\n",
       "      <td>NO</td>\n",
       "      <td>YES</td>\n",
       "      <td>YES</td>\n",
       "      <td>YES</td>\n",
       "      <td>Spam</td>\n",
       "    </tr>\n",
       "    <tr>\n",
       "      <th>4</th>\n",
       "      <td>YES</td>\n",
       "      <td>NO</td>\n",
       "      <td>NO</td>\n",
       "      <td>YES</td>\n",
       "      <td>Benign</td>\n",
       "    </tr>\n",
       "    <tr>\n",
       "      <th>5</th>\n",
       "      <td>YES</td>\n",
       "      <td>YES</td>\n",
       "      <td>YES</td>\n",
       "      <td>YES</td>\n",
       "      <td>Spam</td>\n",
       "    </tr>\n",
       "  </tbody>\n",
       "</table>\n",
       "</div>"
      ],
      "text/plain": [
       "  ContainsSpellingMistakes ContainsUrgent ContainsASAP ContainsLink   Label\n",
       "0                       NO             NO           NO          YES  Benign\n",
       "1                       NO             NO           NO           NO  Benign\n",
       "2                      YES             NO          YES           NO    Spam\n",
       "3                       NO            YES          YES          YES    Spam\n",
       "4                      YES             NO           NO          YES  Benign\n",
       "5                      YES            YES          YES          YES    Spam"
      ]
     },
     "execution_count": 2,
     "metadata": {},
     "output_type": "execute_result"
    }
   ],
   "source": [
    "import pandas as pd\n",
    "\n",
    "df = pd.DataFrame([['NO', 'NO', 'NO', 'YES', 'Benign'],\n",
    "                   ['NO', 'NO', 'NO', 'NO', 'Benign'],\n",
    "                   ['YES', 'NO', 'YES', 'NO', 'Spam'],\n",
    "                   ['NO', 'YES', 'YES', 'YES', 'Spam'],\n",
    "                   ['YES', 'NO', 'NO', 'YES', 'Benign'],\n",
    "                   ['YES', 'YES', 'YES', 'YES', 'Spam']\n",
    "                  ],\n",
    "                  columns = ['ContainsSpellingMistakes', 'ContainsUrgent', 'ContainsASAP',  'ContainsLink', 'Label']\n",
    "                 )\n",
    "df"
   ]
  },
  {
   "cell_type": "code",
   "execution_count": 3,
   "id": "37c41a97-6c04-473f-a287-33d4409dc2de",
   "metadata": {},
   "outputs": [
    {
     "name": "stdout",
     "output_type": "stream",
     "text": [
      "  ContainsSpellingMistakes ContainsUrgent ContainsASAP ContainsLink\n",
      "0                       NO             NO           NO          YES\n",
      "1                       NO             NO           NO           NO\n",
      "2                      YES             NO          YES           NO\n",
      "3                       NO            YES          YES          YES\n",
      "4                      YES             NO           NO          YES\n",
      "5                      YES            YES          YES          YES \n",
      "\n",
      " 0    Benign\n",
      "1    Benign\n",
      "2      Spam\n",
      "3      Spam\n",
      "4    Benign\n",
      "5      Spam\n",
      "Name: Label, dtype: object\n"
     ]
    }
   ],
   "source": [
    "X = df.drop('Label', axis = 1, inplace = False)\n",
    "y = df['Label']\n",
    "\n",
    "print(X, '\\n\\n', y)"
   ]
  },
  {
   "cell_type": "code",
   "execution_count": 4,
   "id": "568d4cfa-f0ee-49d4-928d-7c495a4cd847",
   "metadata": {},
   "outputs": [
    {
     "name": "stdout",
     "output_type": "stream",
     "text": [
      "   ContainsSpellingMistakes  ContainsUrgent  ContainsASAP  ContainsLink\n",
      "0                         0               0             0             1\n",
      "1                         0               0             0             0\n",
      "2                         1               0             1             0\n",
      "3                         0               1             1             1\n",
      "4                         1               0             0             1\n",
      "5                         1               1             1             1 \n",
      "\n",
      " [0 0 1 1 0 1]\n"
     ]
    }
   ],
   "source": [
    "from sklearn.preprocessing import LabelEncoder\n",
    "\n",
    "# Convert all data to numbers\n",
    "leX = LabelEncoder()\n",
    "XL = X.apply(leX.fit_transform)\n",
    "\n",
    "leY = LabelEncoder()\n",
    "yL = leY.fit_transform(y)\n",
    "\n",
    "print(XL, '\\n\\n', yL)"
   ]
  },
  {
   "cell_type": "code",
   "execution_count": 5,
   "id": "1bf4e5dc-6791-49eb-9f5f-6623ce727cf1",
   "metadata": {},
   "outputs": [
    {
     "name": "stdout",
     "output_type": "stream",
     "text": [
      "Prediction = ['Benign']\n"
     ]
    }
   ],
   "source": [
    "from sklearn.linear_model import LogisticRegression\n",
    "\n",
    "# Build Model\n",
    "lr = LogisticRegression()\n",
    "lr.fit(XL, yL)\n",
    "\n",
    "# Prepare Test Data\n",
    "testData = ['NO', 'YES', 'NO', 'YES']\n",
    "Xtest = leX.transform(testData)\n",
    "\n",
    "prediction = lr.predict(Xtest.reshape(1, -1))\n",
    "print('Prediction =', leY.inverse_transform(prediction))"
   ]
  }
 ],
 "metadata": {
  "kernelspec": {
   "display_name": "Python 3 (ipykernel)",
   "language": "python",
   "name": "python3"
  },
  "language_info": {
   "codemirror_mode": {
    "name": "ipython",
    "version": 3
   },
   "file_extension": ".py",
   "mimetype": "text/x-python",
   "name": "python",
   "nbconvert_exporter": "python",
   "pygments_lexer": "ipython3",
   "version": "3.9.7"
  }
 },
 "nbformat": 4,
 "nbformat_minor": 5
}
